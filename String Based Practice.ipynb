{
 "cells": [
  {
   "cell_type": "markdown",
   "id": "5a4a5611-37b2-448e-b0cb-65ae7100c730",
   "metadata": {},
   "source": [
    "TOPIC: String Based Assignment Problem"
   ]
  },
  {
   "cell_type": "markdown",
   "id": "46628e37-d016-4dc6-92a3-cf1aa7956bb8",
   "metadata": {},
   "source": [
    "1. Write a program to reverse a string."
   ]
  },
  {
   "cell_type": "code",
   "execution_count": 1,
   "id": "8935b65d-b404-4d0f-bb22-de58cb5b73c8",
   "metadata": {},
   "outputs": [],
   "source": [
    "s=\"my name is vishal\""
   ]
  },
  {
   "cell_type": "code",
   "execution_count": 2,
   "id": "e4aa8599-2d1d-4983-b22b-c6ccd9eee7d6",
   "metadata": {},
   "outputs": [
    {
     "data": {
      "text/plain": [
       "'lahsiv si eman ym'"
      ]
     },
     "execution_count": 2,
     "metadata": {},
     "output_type": "execute_result"
    }
   ],
   "source": [
    "s[::-1]"
   ]
  },
  {
   "cell_type": "markdown",
   "id": "7845f27b-8b74-4e8d-bf15-b9948249e78a",
   "metadata": {},
   "source": [
    "2. Check if a string is a palindrome."
   ]
  },
  {
   "cell_type": "code",
   "execution_count": 16,
   "id": "bdbea8cd-f8a6-488d-9e36-90ef4b185de8",
   "metadata": {},
   "outputs": [],
   "source": [
    "def is_palindrome(s):\n",
    "    s = s.replace(\" \", \"\").lower()\n",
    "    return s == s[::-1]\n"
   ]
  },
  {
   "cell_type": "code",
   "execution_count": 17,
   "id": "da8aa44f-1f00-4f2d-8f67-84d4faa401a7",
   "metadata": {},
   "outputs": [
    {
     "name": "stdin",
     "output_type": "stream",
     "text": [
      "Enter a string:  abcba\n"
     ]
    },
    {
     "name": "stdout",
     "output_type": "stream",
     "text": [
      "The input string is a palindrome.\n"
     ]
    }
   ],
   "source": [
    "string = input(\"Enter a string: \")\n",
    "if is_palindrome(string):\n",
    "    print(\"The input string is a palindrome.\")\n",
    "else:\n",
    "    print(\"The input string is not a palindrome.\")"
   ]
  },
  {
   "cell_type": "markdown",
   "id": "fe078379-0165-44c1-9d20-71621cf0e9bf",
   "metadata": {},
   "source": [
    "3. Convert a string to uppercase."
   ]
  },
  {
   "cell_type": "code",
   "execution_count": 18,
   "id": "08ba5e2e-d6aa-4114-96e0-2d6dbdbc98de",
   "metadata": {},
   "outputs": [],
   "source": [
    "a=\"my name is vishal karhad\""
   ]
  },
  {
   "cell_type": "code",
   "execution_count": 19,
   "id": "23db1e8b-48a4-43ef-b38f-dc0dfc45ca7e",
   "metadata": {},
   "outputs": [
    {
     "data": {
      "text/plain": [
       "'MY NAME IS VISHAL KARHAD'"
      ]
     },
     "execution_count": 19,
     "metadata": {},
     "output_type": "execute_result"
    }
   ],
   "source": [
    "a.upper()"
   ]
  },
  {
   "cell_type": "markdown",
   "id": "f6794ce3-9c3e-454d-ba95-405c65411237",
   "metadata": {},
   "source": [
    "4. Convert a string to lowercase."
   ]
  },
  {
   "cell_type": "code",
   "execution_count": 20,
   "id": "276af281-0c85-47bf-aca3-ec57cde66377",
   "metadata": {},
   "outputs": [
    {
     "data": {
      "text/plain": [
       "'my name is vishal karhad'"
      ]
     },
     "execution_count": 20,
     "metadata": {},
     "output_type": "execute_result"
    }
   ],
   "source": [
    "a.lower()"
   ]
  },
  {
   "cell_type": "markdown",
   "id": "d6b2b36e-66bc-42d8-8718-74fae91be90b",
   "metadata": {},
   "source": [
    "5. Count the number of vowels in a string."
   ]
  },
  {
   "cell_type": "code",
   "execution_count": 22,
   "id": "64df853f-6457-4361-bb00-fa22a58bf118",
   "metadata": {},
   "outputs": [],
   "source": [
    "def count_vowels(string):\n",
    "    vowels = set(\"aeiou\")\n",
    "    count = 0\n",
    "    for char in string:\n",
    "        if char in vowels:\n",
    "            count += 1\n",
    "    return count"
   ]
  },
  {
   "cell_type": "code",
   "execution_count": 23,
   "id": "5195031d-3e9d-413d-9daf-ba18457aacbb",
   "metadata": {},
   "outputs": [
    {
     "name": "stdin",
     "output_type": "stream",
     "text": [
      "Enter a string:  vishal\n"
     ]
    },
    {
     "name": "stdout",
     "output_type": "stream",
     "text": [
      "The number of vowels in the input string is: 2\n"
     ]
    }
   ],
   "source": [
    "input_string = input(\"Enter a string: \")\n",
    "num_vowels = count_vowels(input_string)\n",
    "print(f\"The number of vowels in the input string is: {num_vowels}\")"
   ]
  },
  {
   "cell_type": "markdown",
   "id": "7e1e9c19-5730-4b9f-8405-2ca7638dd8c1",
   "metadata": {},
   "source": [
    "6. Count the number of consonants in a string."
   ]
  },
  {
   "cell_type": "code",
   "execution_count": 24,
   "id": "d9518160-28ad-43ab-ac2f-d1413bac32ca",
   "metadata": {},
   "outputs": [],
   "source": [
    "def count_consonants(string):\n",
    "    vowels = set(\"aeiouAEIOU\")\n",
    "    count = 0\n",
    "    for char in string:\n",
    "        if char.isalpha() and char not in vowels:\n",
    "            count += 1\n",
    "    return count"
   ]
  },
  {
   "cell_type": "code",
   "execution_count": 25,
   "id": "ecea7a76-6357-4920-968f-9b1d30615b76",
   "metadata": {},
   "outputs": [
    {
     "name": "stdin",
     "output_type": "stream",
     "text": [
      "Enter a string:  vishal\n"
     ]
    },
    {
     "name": "stdout",
     "output_type": "stream",
     "text": [
      "The number of consonants in the input string is: 4\n"
     ]
    }
   ],
   "source": [
    "input_string = input(\"Enter a string: \")\n",
    "num_consonants = count_consonants(input_string)\n",
    "print(f\"The number of consonants in the input string is: {num_consonants}\")"
   ]
  },
  {
   "cell_type": "markdown",
   "id": "714b48d5-e31d-4bbc-952e-66f8cfd492e3",
   "metadata": {},
   "source": [
    "7. Remove all whitespaces from a string."
   ]
  },
  {
   "cell_type": "code",
   "execution_count": 26,
   "id": "cfbab793-60c5-43f2-a93d-dbca862a40a7",
   "metadata": {},
   "outputs": [],
   "source": [
    "string1='Remove all whitespaces from a string'"
   ]
  },
  {
   "cell_type": "code",
   "execution_count": 29,
   "id": "9c666337-5459-4d99-ad20-99df529610d7",
   "metadata": {},
   "outputs": [
    {
     "data": {
      "text/plain": [
       "'Removeallwhitespacesfromastring'"
      ]
     },
     "execution_count": 29,
     "metadata": {},
     "output_type": "execute_result"
    }
   ],
   "source": [
    "string1.replace(\" \",\"\")"
   ]
  },
  {
   "cell_type": "markdown",
   "id": "820d7383-b8ac-4085-ae6d-3304eb23bc20",
   "metadata": {},
   "source": [
    "8. Find the length of a string without using the `len()` function."
   ]
  },
  {
   "cell_type": "code",
   "execution_count": 31,
   "id": "5bbfe75a-ef7e-450e-91c3-06db44612705",
   "metadata": {},
   "outputs": [],
   "source": [
    "def string_length(input_string):\n",
    "    count = 0\n",
    "    for char in input_string:\n",
    "        count += 1\n",
    "    return count"
   ]
  },
  {
   "cell_type": "code",
   "execution_count": 32,
   "id": "2cfbb378-16df-4ef6-8d15-f9c0c0f95b77",
   "metadata": {},
   "outputs": [
    {
     "name": "stdin",
     "output_type": "stream",
     "text": [
      "Enter a string:  vishal\n"
     ]
    },
    {
     "name": "stdout",
     "output_type": "stream",
     "text": [
      "Length of the string: 6\n"
     ]
    }
   ],
   "source": [
    "input_string = input(\"Enter a string: \")\n",
    "length = string_length(input_string)\n",
    "print(\"Length of the string:\", length)"
   ]
  },
  {
   "cell_type": "markdown",
   "id": "2a0d7abe-cccd-414e-9456-4cc6ccf72a92",
   "metadata": {},
   "source": [
    "9. Check if a string contains a specific word."
   ]
  },
  {
   "cell_type": "code",
   "execution_count": 1,
   "id": "f06588a4-36a8-431a-847d-ff2145ca2178",
   "metadata": {},
   "outputs": [],
   "source": [
    "string= \"Check if a string contains a specific word\"\n",
    "check_word=\"word\""
   ]
  },
  {
   "cell_type": "code",
   "execution_count": 3,
   "id": "4642953d-e949-4601-bfa1-14f16762a147",
   "metadata": {},
   "outputs": [
    {
     "name": "stdout",
     "output_type": "stream",
     "text": [
      "The word'word'is presnt in the sring\n"
     ]
    }
   ],
   "source": [
    "if check_word in string:\n",
    "    print(f\"The word'{check_word}'is presnt in the sring\")\n",
    "else:\n",
    "     print(f\"the word'{check_word}' is not present in the string\")"
   ]
  },
  {
   "cell_type": "markdown",
   "id": "cccc2182-c860-4d97-9584-9dacc65e76a1",
   "metadata": {},
   "source": [
    "10. Replace a word in a string with another word."
   ]
  },
  {
   "cell_type": "code",
   "execution_count": 4,
   "id": "f774511a-0e6d-47e9-8ad8-2ba3c9f5579b",
   "metadata": {},
   "outputs": [],
   "source": [
    "original_string=\"Replace a word in a string with another word\""
   ]
  },
  {
   "cell_type": "code",
   "execution_count": 5,
   "id": "64aab4df-641a-4a13-8d00-906c02d747d5",
   "metadata": {},
   "outputs": [],
   "source": [
    "new_string=original_string.replace(\"word\",\"term\")"
   ]
  },
  {
   "cell_type": "code",
   "execution_count": 6,
   "id": "ffdd4d6f-526f-4c4e-a086-9a64e25c22cc",
   "metadata": {},
   "outputs": [
    {
     "data": {
      "text/plain": [
       "'Replace a term in a string with another term'"
      ]
     },
     "execution_count": 6,
     "metadata": {},
     "output_type": "execute_result"
    }
   ],
   "source": [
    "new_string"
   ]
  },
  {
   "cell_type": "markdown",
   "id": "082dc684-6e5a-4bfe-b772-73e4babeafe7",
   "metadata": {},
   "source": [
    "11. Count the occurrences of a word in a string."
   ]
  },
  {
   "cell_type": "code",
   "execution_count": 7,
   "id": "37b07b4e-eecc-4800-b164-71cbe51f4a01",
   "metadata": {},
   "outputs": [],
   "source": [
    "string=\"This is a sample sentence. It contains a word. The word appears multiple times in the sentence.\"\n"
   ]
  },
  {
   "cell_type": "code",
   "execution_count": 8,
   "id": "dd6337ff-5397-41eb-8e62-63af362f71b9",
   "metadata": {},
   "outputs": [
    {
     "name": "stdin",
     "output_type": "stream",
     "text": [
      "Enter the word that you count word\n"
     ]
    }
   ],
   "source": [
    "word_to_count=input(\"Enter the word that you count\")"
   ]
  },
  {
   "cell_type": "code",
   "execution_count": 9,
   "id": "593943ee-6098-4b52-a2fa-cb6d0560893e",
   "metadata": {},
   "outputs": [],
   "source": [
    "count=string.count(word_to_count)"
   ]
  },
  {
   "cell_type": "code",
   "execution_count": 10,
   "id": "97525c80-7414-4401-a3eb-71fde08794ff",
   "metadata": {},
   "outputs": [
    {
     "name": "stdout",
     "output_type": "stream",
     "text": [
      "The word'word' apperes 2 times in the string\n"
     ]
    }
   ],
   "source": [
    "print(f\"The word'{word_to_count}' apperes {count} times in the string\")"
   ]
  },
  {
   "cell_type": "markdown",
   "id": "5307194d-10f6-4bea-94db-2aa4c83c50dd",
   "metadata": {},
   "source": [
    "12. Find the first occurrence of a word in a string."
   ]
  },
  {
   "cell_type": "code",
   "execution_count": 11,
   "id": "bf76a24b-04f0-4d6c-853f-8d80825b5492",
   "metadata": {},
   "outputs": [],
   "source": [
    "string=\"This is a sample sentence. It contains a word. The word appears multiple times in the sentence.\"\n",
    "word_to_find=\"word\""
   ]
  },
  {
   "cell_type": "code",
   "execution_count": 12,
   "id": "e011b954-be54-46e1-afe5-480a7bb99736",
   "metadata": {},
   "outputs": [],
   "source": [
    "index=string.find(word_to_find)"
   ]
  },
  {
   "cell_type": "code",
   "execution_count": 13,
   "id": "2bd5e95a-4c62-4210-b5de-f69c97ecfa27",
   "metadata": {},
   "outputs": [
    {
     "data": {
      "text/plain": [
       "41"
      ]
     },
     "execution_count": 13,
     "metadata": {},
     "output_type": "execute_result"
    }
   ],
   "source": [
    "index"
   ]
  },
  {
   "cell_type": "markdown",
   "id": "17be3fa5-6f65-4110-ba33-d8914f3554db",
   "metadata": {},
   "source": [
    "13. Find the last occurrence of a word in a string."
   ]
  },
  {
   "cell_type": "code",
   "execution_count": 14,
   "id": "0e1dc2fe-5cfb-48c2-829d-1b708ac453ef",
   "metadata": {},
   "outputs": [],
   "source": [
    "last_index=string.rfind(word_to_find)"
   ]
  },
  {
   "cell_type": "code",
   "execution_count": 15,
   "id": "0355a0aa-0a7f-4107-a2f3-0676753d5ce6",
   "metadata": {},
   "outputs": [
    {
     "data": {
      "text/plain": [
       "51"
      ]
     },
     "execution_count": 15,
     "metadata": {},
     "output_type": "execute_result"
    }
   ],
   "source": [
    "last_index"
   ]
  },
  {
   "cell_type": "markdown",
   "id": "51b8d398-60e8-4a42-82d7-97fa1733f0c3",
   "metadata": {},
   "source": [
    "14. Split a string into a list of words."
   ]
  },
  {
   "cell_type": "code",
   "execution_count": 16,
   "id": "9e5b5045-480e-444c-9359-108f512fef72",
   "metadata": {},
   "outputs": [],
   "source": [
    "string=\"apple,banana,cherry,date\""
   ]
  },
  {
   "cell_type": "code",
   "execution_count": 17,
   "id": "65f9b6f3-00df-4a69-83d9-2241821fb951",
   "metadata": {},
   "outputs": [],
   "source": [
    "word_list=string.split(',')"
   ]
  },
  {
   "cell_type": "code",
   "execution_count": 18,
   "id": "bb2253bb-149c-45fb-87f2-4e7172769713",
   "metadata": {},
   "outputs": [
    {
     "data": {
      "text/plain": [
       "['apple', 'banana', 'cherry', 'date']"
      ]
     },
     "execution_count": 18,
     "metadata": {},
     "output_type": "execute_result"
    }
   ],
   "source": [
    "word_list"
   ]
  },
  {
   "cell_type": "markdown",
   "id": "568cc760-067a-401a-9b6b-917b42545066",
   "metadata": {},
   "source": [
    "15. Join a list of words into a string."
   ]
  },
  {
   "cell_type": "code",
   "execution_count": 19,
   "id": "e7d5c2cb-5437-4a69-89ee-0667e617f63c",
   "metadata": {},
   "outputs": [],
   "source": [
    "word_list=['Apple','Banana','Cherry','Date']\n",
    "result_string=','.join(word_list)"
   ]
  },
  {
   "cell_type": "code",
   "execution_count": 20,
   "id": "26def56b-4541-4724-8a1d-853f90321251",
   "metadata": {},
   "outputs": [
    {
     "data": {
      "text/plain": [
       "'Apple,Banana,Cherry,Date'"
      ]
     },
     "execution_count": 20,
     "metadata": {},
     "output_type": "execute_result"
    }
   ],
   "source": [
    "result_string"
   ]
  },
  {
   "cell_type": "markdown",
   "id": "38f1a8c0-6437-4f18-bb98-82978befb79f",
   "metadata": {},
   "source": [
    "16. Convert a string where words are separated by spaces to one where words\n",
    "are separated by underscores."
   ]
  },
  {
   "cell_type": "code",
   "execution_count": 23,
   "id": "219de204-62b8-4543-9061-6fdab7b96d80",
   "metadata": {},
   "outputs": [],
   "source": [
    "original_string=\"this is a sample string with spasces between word\"\n",
    "modified_string=original_string.replace(\" \",\"_\")\n"
   ]
  },
  {
   "cell_type": "code",
   "execution_count": 24,
   "id": "3e84379c-11f0-4ba6-a065-66c459e63908",
   "metadata": {},
   "outputs": [
    {
     "data": {
      "text/plain": [
       "'this_is_a_sample_string_with_spasces_between_word'"
      ]
     },
     "execution_count": 24,
     "metadata": {},
     "output_type": "execute_result"
    }
   ],
   "source": [
    "modified_string"
   ]
  },
  {
   "cell_type": "markdown",
   "id": "cdfb53e3-ad86-4187-9c4c-7afe018a62e0",
   "metadata": {},
   "source": [
    "17. Check if a string starts with a specific word or phrase."
   ]
  },
  {
   "cell_type": "code",
   "execution_count": 25,
   "id": "f4b4b5a3-aa61-4adc-8a6a-9de5c1d950c9",
   "metadata": {},
   "outputs": [],
   "source": [
    "original_string = \"This is a sample string. It starts with 'This'.\""
   ]
  },
  {
   "cell_type": "code",
   "execution_count": 26,
   "id": "62ad7d5f-8009-4f5b-9975-98181ccced6a",
   "metadata": {},
   "outputs": [],
   "source": [
    "word_to_check = \"This\""
   ]
  },
  {
   "cell_type": "code",
   "execution_count": 27,
   "id": "397c9ff9-92da-4674-8fab-6398ab5bc366",
   "metadata": {},
   "outputs": [
    {
     "name": "stdout",
     "output_type": "stream",
     "text": [
      "The string starts with 'This'.\n"
     ]
    }
   ],
   "source": [
    "if original_string.startswith(word_to_check):\n",
    "    print(f\"The string starts with '{word_to_check}'.\")\n",
    "else:\n",
    "    print(f\"The string does not start with '{word_to_check}'.\")"
   ]
  },
  {
   "cell_type": "markdown",
   "id": "2ed6f61f-eba0-4ab5-b7f9-ae0918750be6",
   "metadata": {},
   "source": [
    "18. Check if a string ends with a specific word or phrase."
   ]
  },
  {
   "cell_type": "code",
   "execution_count": 28,
   "id": "a2d66267-98b6-49d7-91d7-c5684f7a0aeb",
   "metadata": {},
   "outputs": [],
   "source": [
    "original_string = \"This is a sample string. It ends with 'phrase'.\"\n",
    "word_to_check = \"phrase\""
   ]
  },
  {
   "cell_type": "code",
   "execution_count": 29,
   "id": "2b54417e-4742-4cac-b577-b98effceec2e",
   "metadata": {},
   "outputs": [
    {
     "name": "stdout",
     "output_type": "stream",
     "text": [
      "The string does not end with 'phrase'.\n"
     ]
    }
   ],
   "source": [
    "if original_string.endswith(word_to_check):\n",
    "    print(f\"The string ends with '{word_to_check}'.\")\n",
    "else:\n",
    "    print(f\"The string does not end with '{word_to_check}'.\")"
   ]
  },
  {
   "cell_type": "markdown",
   "id": "1233dc0a-6e1c-4bd2-bb5a-c3bf0ebe7dea",
   "metadata": {},
   "source": [
    "19. Convert a string to title case (e.g., \"hello world\" to \"Hello World\")."
   ]
  },
  {
   "cell_type": "code",
   "execution_count": 36,
   "id": "3dba800d-4b3f-4fe3-afeb-870f75dd1c59",
   "metadata": {},
   "outputs": [],
   "source": [
    "original_string = \"hello world\""
   ]
  },
  {
   "cell_type": "code",
   "execution_count": 37,
   "id": "5454accd-fb0e-43a5-b746-b8b78d75c5e7",
   "metadata": {},
   "outputs": [],
   "source": [
    "title_case_string = original_string.title()"
   ]
  },
  {
   "cell_type": "code",
   "execution_count": 38,
   "id": "d02fd9b0-fa4f-4b05-8e8e-914784e929fe",
   "metadata": {},
   "outputs": [
    {
     "data": {
      "text/plain": [
       "'Hello World'"
      ]
     },
     "execution_count": 38,
     "metadata": {},
     "output_type": "execute_result"
    }
   ],
   "source": [
    "title_case_string"
   ]
  },
  {
   "cell_type": "markdown",
   "id": "3abab9ea-2018-4a1a-ad0b-1ae04b5c5f73",
   "metadata": {},
   "source": [
    "20. Find the longest word in a string."
   ]
  },
  {
   "cell_type": "code",
   "execution_count": 39,
   "id": "e52abbb5-8d01-4fe2-8dfe-20c65d1a8840",
   "metadata": {},
   "outputs": [
    {
     "name": "stdin",
     "output_type": "stream",
     "text": [
      "Enter a String:  this is longest string in the sentence\n"
     ]
    }
   ],
   "source": [
    "str = input(\"Enter a String: \")"
   ]
  },
  {
   "cell_type": "code",
   "execution_count": 40,
   "id": "1c2cebaa-5a1a-4c8a-a3bc-86f10fd090f1",
   "metadata": {},
   "outputs": [],
   "source": [
    "word_list = str.split()"
   ]
  },
  {
   "cell_type": "code",
   "execution_count": 48,
   "id": "b896adae-d6e7-47a8-91e8-422773a85210",
   "metadata": {},
   "outputs": [],
   "source": [
    "longest_word = max(word_list, key = len)"
   ]
  },
  {
   "cell_type": "code",
   "execution_count": 49,
   "id": "68eb9f21-7dbb-4776-ba0f-939d03c03c6f",
   "metadata": {},
   "outputs": [
    {
     "name": "stdout",
     "output_type": "stream",
     "text": [
      "Longest word:  sentence\n"
     ]
    }
   ],
   "source": [
    "print(\"Longest word: \",longest_word)"
   ]
  },
  {
   "cell_type": "markdown",
   "id": "c34c67c0-0346-4d33-b237-f906c820f82d",
   "metadata": {},
   "source": [
    "21. Find the shortest word in a string."
   ]
  },
  {
   "cell_type": "code",
   "execution_count": 50,
   "id": "f51bb056-629d-4f91-acaf-8c2db56c411d",
   "metadata": {},
   "outputs": [],
   "source": [
    "str = \"this is a shortest string in this sentence\""
   ]
  },
  {
   "cell_type": "code",
   "execution_count": 51,
   "id": "4e578000-fd1e-4389-9f12-c46e6a9a862a",
   "metadata": {},
   "outputs": [],
   "source": [
    "word_list=str.split()"
   ]
  },
  {
   "cell_type": "code",
   "execution_count": 52,
   "id": "8ef0ac13-ea86-4ecf-a791-d10d02fc2ca7",
   "metadata": {},
   "outputs": [],
   "source": [
    "short_word=min(word_list, key = len)"
   ]
  },
  {
   "cell_type": "code",
   "execution_count": 53,
   "id": "c05185af-8f84-401c-bcc2-0248eda7833d",
   "metadata": {},
   "outputs": [
    {
     "data": {
      "text/plain": [
       "'a'"
      ]
     },
     "execution_count": 53,
     "metadata": {},
     "output_type": "execute_result"
    }
   ],
   "source": [
    "short_word"
   ]
  },
  {
   "cell_type": "markdown",
   "id": "1f0d9344-faa3-4b52-8813-6f4ed0385ae5",
   "metadata": {},
   "source": [
    "22. Reverse the order of words in a string."
   ]
  },
  {
   "cell_type": "code",
   "execution_count": 54,
   "id": "9e3f57a8-b765-4c91-99f0-6083185e2c07",
   "metadata": {},
   "outputs": [],
   "source": [
    "original_string=\" this is a sample string with word in reverse order\""
   ]
  },
  {
   "cell_type": "code",
   "execution_count": 55,
   "id": "85075c38-3a6c-4920-adcc-242d4dfb8bb5",
   "metadata": {},
   "outputs": [],
   "source": [
    "word=original_string.split()"
   ]
  },
  {
   "cell_type": "code",
   "execution_count": 57,
   "id": "c343787e-bbf9-44db-ac4d-965615c102fb",
   "metadata": {},
   "outputs": [],
   "source": [
    "reverse_word=word[::-1]"
   ]
  },
  {
   "cell_type": "code",
   "execution_count": 59,
   "id": "3dc36ab6-b375-4afc-9b6a-f48f30668e3c",
   "metadata": {},
   "outputs": [],
   "source": [
    "reverse_string = ' '.join(reverse_word)"
   ]
  },
  {
   "cell_type": "code",
   "execution_count": 62,
   "id": "f2deea46-34c9-4c8b-be47-f631167b6bcd",
   "metadata": {},
   "outputs": [
    {
     "data": {
      "text/plain": [
       "'order reverse in word with string sample a is this'"
      ]
     },
     "execution_count": 62,
     "metadata": {},
     "output_type": "execute_result"
    }
   ],
   "source": [
    "reverse_string"
   ]
  },
  {
   "cell_type": "markdown",
   "id": "754e96ca-3361-4d05-bf4b-361db8b5c28a",
   "metadata": {},
   "source": [
    "23. Check if a string is alphanumeric."
   ]
  },
  {
   "cell_type": "code",
   "execution_count": 63,
   "id": "42c4acf7-2153-48ae-a6f8-6056c0552f48",
   "metadata": {},
   "outputs": [],
   "source": [
    "input_string = \"Hello123\""
   ]
  },
  {
   "cell_type": "code",
   "execution_count": 68,
   "id": "329655c4-55f9-4fcd-9f8d-81b38e7e06e7",
   "metadata": {},
   "outputs": [
    {
     "name": "stdout",
     "output_type": "stream",
     "text": [
      "the string Hello123 is alphanumeric\n"
     ]
    }
   ],
   "source": [
    "if input_string.isalnum():\n",
    "    print(\"the string\",input_string,\"is alphanumeric\")\n",
    "else:\n",
    "    print(\"the string\",input_string ,\" is not alphanumeric\")"
   ]
  },
  {
   "cell_type": "markdown",
   "id": "42ecd6f0-bf46-46d3-be52-174b2f8babf0",
   "metadata": {},
   "source": [
    "24. Extract all digits from a string."
   ]
  },
  {
   "cell_type": "code",
   "execution_count": 1,
   "id": "a5977626-03bf-4490-9f4d-ff9f790cfeaf",
   "metadata": {},
   "outputs": [],
   "source": [
    "def extract_digits(input_string):\n",
    "    extracted_digits = \"\"\n",
    "    for char in input_string:\n",
    "        if char.isdigit():\n",
    "            extracted_digits += char\n",
    "    return extracted_digits"
   ]
  },
  {
   "cell_type": "code",
   "execution_count": 2,
   "id": "7a1f466c-a9a7-4d41-9cf8-cf280b6786df",
   "metadata": {},
   "outputs": [
    {
     "name": "stdout",
     "output_type": "stream",
     "text": [
      "The extracted digits are: 1234567\n"
     ]
    }
   ],
   "source": [
    "input_string = \"Hello123, how are you? 4567!\"\n",
    "digits = extract_digits(input_string)\n",
    "\n",
    "print(f\"The extracted digits are: {digits}\")"
   ]
  },
  {
   "cell_type": "markdown",
   "id": "f9d7ff73-e748-4d9d-813b-05761673d0bb",
   "metadata": {},
   "source": [
    "25. Extract all alphabets from a string."
   ]
  },
  {
   "cell_type": "code",
   "execution_count": 3,
   "id": "57cda74d-8566-4ada-8d94-76c8cefa911b",
   "metadata": {},
   "outputs": [],
   "source": [
    "def extract_alphabets(input_string):\n",
    "    extracted_alphabets = \"\"\n",
    "    for char in input_string:\n",
    "        if char.isalpha():\n",
    "            extracted_alphabets += char\n",
    "    return extracted_alphabets"
   ]
  },
  {
   "cell_type": "code",
   "execution_count": 5,
   "id": "39622dc8-bc2c-48a0-9f15-6ac1c3c6b3d8",
   "metadata": {},
   "outputs": [
    {
     "name": "stdout",
     "output_type": "stream",
     "text": [
      "The extracted alphabets are: HellohowareyouABCD\n"
     ]
    }
   ],
   "source": [
    "input_string = \"Hello123, how are you? ABCD!\"\n",
    "alphabets = extract_alphabets(input_string)\n",
    "print(f\"The extracted alphabets are: {alphabets}\")"
   ]
  },
  {
   "cell_type": "markdown",
   "id": "b9d7b744-bb30-4080-8b4b-a32fa5a43100",
   "metadata": {},
   "source": [
    "26. Count the number of uppercase letters in a string."
   ]
  },
  {
   "cell_type": "code",
   "execution_count": 22,
   "id": "315b3c4c-c729-419b-9da4-3f19dd22cd06",
   "metadata": {},
   "outputs": [],
   "source": [
    "input_string = \"Hello VisHal KArhaD\""
   ]
  },
  {
   "cell_type": "code",
   "execution_count": 23,
   "id": "be074398-0ca2-4949-86f0-3d917edb49cc",
   "metadata": {},
   "outputs": [],
   "source": [
    " uppercase_count = 0"
   ]
  },
  {
   "cell_type": "code",
   "execution_count": 24,
   "id": "97639684-72d7-4527-aba1-309ff743c235",
   "metadata": {},
   "outputs": [],
   "source": [
    "for char in input_string:\n",
    "        if char.isupper():\n",
    "             uppercase_count += 1"
   ]
  },
  {
   "cell_type": "code",
   "execution_count": 31,
   "id": "5b795cd8-5afd-4514-8f99-b4bcc257d1f3",
   "metadata": {},
   "outputs": [
    {
     "name": "stdout",
     "output_type": "stream",
     "text": [
      "The number of uppercase Letterr in the string is 6\n"
     ]
    }
   ],
   "source": [
    "print(\"The number of uppercase Letterr in the string is\",uppercase_count)"
   ]
  },
  {
   "cell_type": "markdown",
   "id": "9b6a3cc2-c04d-484d-a674-93c5494b8951",
   "metadata": {},
   "source": [
    "27. Count the number of lowercase letters in a string."
   ]
  },
  {
   "cell_type": "code",
   "execution_count": 32,
   "id": "0d737dc0-41d7-4264-ad2b-f108cd9cee5f",
   "metadata": {},
   "outputs": [],
   "source": [
    "input_string= \"My NAme Is VishaL KArhad\""
   ]
  },
  {
   "cell_type": "code",
   "execution_count": 33,
   "id": "ccab48df-55e4-476a-881b-261c7627f0fd",
   "metadata": {},
   "outputs": [],
   "source": [
    "lowwercase_count=0"
   ]
  },
  {
   "cell_type": "code",
   "execution_count": 34,
   "id": "cf9a1cd9-efa7-4f0e-90e5-2454e13bc94e",
   "metadata": {},
   "outputs": [],
   "source": [
    "for char in input_string:\n",
    "    if char.islower():\n",
    "        lowwercase_count +=1"
   ]
  },
  {
   "cell_type": "code",
   "execution_count": 35,
   "id": "663b8beb-e05d-4881-b41e-03ad1c49aa9c",
   "metadata": {},
   "outputs": [
    {
     "name": "stdout",
     "output_type": "stream",
     "text": [
      "The number of lowerrcase Letterr in the string is 12\n"
     ]
    }
   ],
   "source": [
    "print(\"The number of lowerrcase Letterr in the string is\",lowwercase_count)"
   ]
  },
  {
   "cell_type": "markdown",
   "id": "9b5b025e-d391-4e84-899e-2f534d04878b",
   "metadata": {},
   "source": [
    "28. Swap the case of each character in a string."
   ]
  },
  {
   "cell_type": "code",
   "execution_count": 36,
   "id": "05ecab23-0471-4c33-bc9b-bddbf6c1bd4a",
   "metadata": {},
   "outputs": [],
   "source": [
    "original_string=\"Hello, WoRLd 123\""
   ]
  },
  {
   "cell_type": "code",
   "execution_count": 37,
   "id": "ee7021bd-b135-44f7-bec1-05967ac3bdf9",
   "metadata": {},
   "outputs": [],
   "source": [
    "swapped_string = original_string.swapcase()"
   ]
  },
  {
   "cell_type": "code",
   "execution_count": 38,
   "id": "01f1e200-86aa-46d9-b35d-6a4f83c1397d",
   "metadata": {},
   "outputs": [
    {
     "name": "stdout",
     "output_type": "stream",
     "text": [
      "hELLO, wOrlD 123\n"
     ]
    }
   ],
   "source": [
    "print(swapped_string)"
   ]
  },
  {
   "cell_type": "markdown",
   "id": "e8f8e814-796a-414a-b276-663c71236fc6",
   "metadata": {},
   "source": [
    "29. Remove a specific word from a string."
   ]
  },
  {
   "cell_type": "code",
   "execution_count": 39,
   "id": "8d6d884a-62f8-45de-983b-ab66bc5a87b2",
   "metadata": {},
   "outputs": [],
   "source": [
    "original_string = \"This is a sample sentence. It contains a word that we want to remove.\""
   ]
  },
  {
   "cell_type": "code",
   "execution_count": 41,
   "id": "7c832134-ab3d-4198-9641-52592b7fc05a",
   "metadata": {},
   "outputs": [
    {
     "name": "stdin",
     "output_type": "stream",
     "text": [
      "Enter the word word\n"
     ]
    }
   ],
   "source": [
    "word_to_remove=input(\"Enter the word\")"
   ]
  },
  {
   "cell_type": "code",
   "execution_count": 42,
   "id": "571adea0-e620-4b33-9458-7c66182e1d4f",
   "metadata": {},
   "outputs": [],
   "source": [
    "new_string = original_string.replace(word_to_remove,\"\")"
   ]
  },
  {
   "cell_type": "code",
   "execution_count": 43,
   "id": "038a3c29-9d59-4851-b8f2-e31f0a89547a",
   "metadata": {},
   "outputs": [
    {
     "name": "stdout",
     "output_type": "stream",
     "text": [
      "This is a sample sentence. It contains a  that we want to remove.\n"
     ]
    }
   ],
   "source": [
    "print(new_string)"
   ]
  },
  {
   "cell_type": "markdown",
   "id": "b6ea5c89-44a9-4dad-bd8e-a133d0cd885e",
   "metadata": {},
   "source": [
    "30. Check if a string is a valid email address."
   ]
  },
  {
   "cell_type": "code",
   "execution_count": 44,
   "id": "9a7c15b4-d726-46a6-b07e-1b948f1b1abb",
   "metadata": {},
   "outputs": [
    {
     "name": "stdout",
     "output_type": "stream",
     "text": [
      "True\n",
      "False\n"
     ]
    }
   ],
   "source": [
    "import re  # Import the regular expression module\n",
    "\n",
    "def is_valid_email(email):\n",
    "    pattern = r'^[\\w\\.-]+@[\\w\\.-]+\\.\\w+$'  # Regular expression pattern for a basic email validation\n",
    "    if re.match(pattern, email):\n",
    "        return True\n",
    "    else:\n",
    "        return False\n",
    "\n",
    "# Example email addresses\n",
    "email1 = \"example@email.com\"\n",
    "email2 = \"invalid-email\"\n",
    "result1 = is_valid_email(email1)\n",
    "result2 = is_valid_email(email2)\n",
    "print(result1)\n",
    "print(result2)"
   ]
  },
  {
   "cell_type": "markdown",
   "id": "5a2a357d-5221-4b4b-9e3c-d2fd6d5cbca0",
   "metadata": {},
   "source": [
    "31. Extract the username from an email address string."
   ]
  },
  {
   "cell_type": "code",
   "execution_count": 45,
   "id": "0c4239e6-add7-4947-8643-1660f8412de2",
   "metadata": {},
   "outputs": [
    {
     "name": "stdin",
     "output_type": "stream",
     "text": [
      "Enter your Email id vishalkarhad199@gmail.com\n"
     ]
    }
   ],
   "source": [
    "email=input(\"Enter your Email id\")"
   ]
  },
  {
   "cell_type": "code",
   "execution_count": 46,
   "id": "81e4bd53-c6b8-4983-beb9-c6b3211b3753",
   "metadata": {},
   "outputs": [],
   "source": [
    "username=email.split('@')[0]"
   ]
  },
  {
   "cell_type": "code",
   "execution_count": 48,
   "id": "0cf18f9c-e96e-434e-8c2e-d551278f18bd",
   "metadata": {},
   "outputs": [
    {
     "name": "stdout",
     "output_type": "stream",
     "text": [
      "Your username name is : vishalkarhad199\n"
     ]
    }
   ],
   "source": [
    "print(\"Your username name is :\",username)"
   ]
  },
  {
   "cell_type": "markdown",
   "id": "b099a101-38b0-4d5b-a68f-02dfbd5dc62c",
   "metadata": {},
   "source": [
    "32. Extract the domain name from an email address string."
   ]
  },
  {
   "cell_type": "code",
   "execution_count": 49,
   "id": "91595727-fb79-4837-8857-a96d63bf8bd1",
   "metadata": {},
   "outputs": [],
   "source": [
    "email=\"pwskill@yahoo.com\""
   ]
  },
  {
   "cell_type": "code",
   "execution_count": 51,
   "id": "ddbfddb4-c3e1-4d56-a5b7-f09d60192760",
   "metadata": {},
   "outputs": [],
   "source": [
    "domain_name=email.split('@')[1]"
   ]
  },
  {
   "cell_type": "code",
   "execution_count": 52,
   "id": "e0dc4d9b-616e-4e81-8641-6dfd4aa36d1d",
   "metadata": {},
   "outputs": [
    {
     "name": "stdout",
     "output_type": "stream",
     "text": [
      "Your domain name is :  yahoo.com\n"
     ]
    }
   ],
   "source": [
    "print(\"Your domain name is : \",domain_name)"
   ]
  },
  {
   "cell_type": "markdown",
   "id": "e64d163b-5ef6-4d68-ab89-f27309a30d6f",
   "metadata": {},
   "source": [
    "33. Replace multiple spaces in a string with a single space."
   ]
  },
  {
   "cell_type": "code",
   "execution_count": 53,
   "id": "dcff92e3-4c8f-4566-b33c-79ca1cf85a4e",
   "metadata": {},
   "outputs": [],
   "source": [
    "def replace_multiple_spaces(input_string):\n",
    "    cleaned_string = ' '.join(input_string.split()) \n",
    "    return cleaned_string"
   ]
  },
  {
   "cell_type": "code",
   "execution_count": 54,
   "id": "5f485e09-376c-4986-9b8d-a00f264b85db",
   "metadata": {},
   "outputs": [
    {
     "name": "stdout",
     "output_type": "stream",
     "text": [
      "Hello world! How are you?\n"
     ]
    }
   ],
   "source": [
    "input_string = \"Hello     world!   How   are   you?\"\n",
    "result = replace_multiple_spaces(input_string)\n",
    "print(result)"
   ]
  },
  {
   "cell_type": "markdown",
   "id": "53975497-8671-4b66-8481-f743d9267661",
   "metadata": {},
   "source": [
    "34. Check if a string is a valid URL."
   ]
  },
  {
   "cell_type": "code",
   "execution_count": 56,
   "id": "b00a411f-9cf2-4068-8783-3a25a300bf8c",
   "metadata": {},
   "outputs": [
    {
     "name": "stdout",
     "output_type": "stream",
     "text": [
      "True\n",
      "False\n"
     ]
    }
   ],
   "source": [
    "from urllib.parse import urlparse\n",
    "\n",
    "def is_valid_url(url):\n",
    "    try:\n",
    "        result = urlparse(url)\n",
    "        return all([result.scheme, result.netloc])\n",
    "    except ValueError:\n",
    "        return False\n",
    "\n",
    "\n",
    "url1 = \"https://www.example.com\"\n",
    "url2 = \"invalid-url\"\n",
    "result1 = is_valid_url(url1)\n",
    "result2 = is_valid_url(url2)\n",
    "print(result1)  \n",
    "print(result2) "
   ]
  },
  {
   "cell_type": "markdown",
   "id": "14800af2-645a-491f-8006-afa0effd75d3",
   "metadata": {},
   "source": [
    "35. Extract the protocol (http or https) from a URL string."
   ]
  },
  {
   "cell_type": "code",
   "execution_count": 57,
   "id": "90356394-7ebe-40e5-b643-14f571be4197",
   "metadata": {},
   "outputs": [
    {
     "name": "stdout",
     "output_type": "stream",
     "text": [
      "The protocol in http://www.example.com is: http\n",
      "The protocol in https://example.com is: https\n",
      "The protocol in ftp://example.com is: ftp\n",
      "The protocol in invalid-url is: No protocol specified\n",
      "The protocol in www.example.com is: No protocol specified\n"
     ]
    }
   ],
   "source": [
    "from urllib.parse import urlparse\n",
    "\n",
    "def extract_protocol(url):\n",
    "    result = urlparse(url)\n",
    "    if result.scheme:\n",
    "        return result.scheme\n",
    "    else:\n",
    "        return \"No protocol specified\"\n",
    "\n",
    "# Example URLs to test\n",
    "urls = [\"http://www.example.com\", \"https://example.com\", \"ftp://example.com\", \"invalid-url\", \"www.example.com\"]\n",
    "\n",
    "for url in urls:\n",
    "    protocol = extract_protocol(url)\n",
    "    print(f\"The protocol in {url} is: {protocol}\")\n"
   ]
  },
  {
   "cell_type": "markdown",
   "id": "e0b1d24a-a625-46e4-8528-6ecbebaf40ec",
   "metadata": {},
   "source": [
    "36. Find the frequency of each character in a string."
   ]
  },
  {
   "cell_type": "code",
   "execution_count": 1,
   "id": "2917e588-eb00-43fe-8317-2872602c9cdc",
   "metadata": {},
   "outputs": [],
   "source": [
    "def character_frequency(input_string):\n",
    "    frequency = {}  \n",
    "\n",
    "    for char in input_string:\n",
    "        if char in frequency:\n",
    "            frequency[char] += 1 \n",
    "        else:\n",
    "            frequency[char] = 1  \n",
    "\n",
    "    return frequency"
   ]
  },
  {
   "cell_type": "code",
   "execution_count": 2,
   "id": "23759d2c-5b0e-4080-8e9e-047770911fcb",
   "metadata": {},
   "outputs": [
    {
     "name": "stdout",
     "output_type": "stream",
     "text": [
      "Character: 'h', Frequency: 1\n",
      "Character: 'e', Frequency: 1\n",
      "Character: 'l', Frequency: 3\n",
      "Character: 'o', Frequency: 2\n",
      "Character: ' ', Frequency: 1\n",
      "Character: 'w', Frequency: 1\n",
      "Character: 'r', Frequency: 1\n",
      "Character: 'd', Frequency: 1\n"
     ]
    }
   ],
   "source": [
    "input_str = \"hello world\"\n",
    "char_freq = character_frequency(input_str)\n",
    "for char, freq in char_freq.items():\n",
    "    print(f\"Character: '{char}', Frequency: {freq}\")"
   ]
  },
  {
   "cell_type": "markdown",
   "id": "f90beafa-c966-4274-93db-3fb8b74b1491",
   "metadata": {},
   "source": [
    "37. Remove all punctuation from a string."
   ]
  },
  {
   "cell_type": "code",
   "execution_count": 1,
   "id": "bf3006fb-7fb4-403d-94f0-f1a98129ee47",
   "metadata": {},
   "outputs": [],
   "source": [
    "def remove_punctuation(input_string):\n",
    "    punctuation = '''!()-[]{};:'\"\\,<>./?@#$%^&*_~'''\n",
    "    cleaned_string = \"\"\n",
    "    for char in input_string:\n",
    "        if char not in punctuation:\n",
    "            cleaned_string += char\n",
    "    return cleaned_string"
   ]
  },
  {
   "cell_type": "code",
   "execution_count": 2,
   "id": "5fea7ad5-faa6-4c79-806d-c602ce86c463",
   "metadata": {},
   "outputs": [
    {
     "name": "stdout",
     "output_type": "stream",
     "text": [
      "Hello World This is an example string\n"
     ]
    }
   ],
   "source": [
    "input_string = \"Hello, World! This is an example string.\"\n",
    "cleaned_string = remove_punctuation(input_string)\n",
    "print(cleaned_string)"
   ]
  },
  {
   "cell_type": "markdown",
   "id": "bc31df3d-528d-4939-b6f5-43c2659d1659",
   "metadata": {},
   "source": [
    "38. Check if a string contains only digits.\n"
   ]
  },
  {
   "cell_type": "code",
   "execution_count": 3,
   "id": "d89c0942-5981-4ecd-a44a-14a79daf66af",
   "metadata": {},
   "outputs": [
    {
     "name": "stdin",
     "output_type": "stream",
     "text": [
      "Enter your string Here..! Hello2345\n"
     ]
    }
   ],
   "source": [
    "string=input(\"Enter your string Here..!\")"
   ]
  },
  {
   "cell_type": "code",
   "execution_count": 17,
   "id": "d6b68829-56ce-400f-9a61-c8b7ecc38255",
   "metadata": {},
   "outputs": [
    {
     "name": "stdout",
     "output_type": "stream",
     "text": [
      "Your String contain digit\n"
     ]
    }
   ],
   "source": [
    "for char in string:\n",
    "    if not char.isdigit():\n",
    "        print(\"Your String contain only digit\")\n",
    "        break\n",
    "    else:\n",
    "        print(\"your string contain only word\")\n",
    "        break"
   ]
  },
  {
   "cell_type": "markdown",
   "id": "37d58e42-cf50-40eb-955b-b7a098601b86",
   "metadata": {},
   "source": [
    "39. Check if a string contains only alphabets"
   ]
  },
  {
   "cell_type": "code",
   "execution_count": 18,
   "id": "44cf6751-81f8-486d-ba90-fde128333e77",
   "metadata": {},
   "outputs": [
    {
     "name": "stdin",
     "output_type": "stream",
     "text": [
      "Enter your string Here..! vishal\n"
     ]
    }
   ],
   "source": [
    "string=input(\"Enter your string Here..!\")"
   ]
  },
  {
   "cell_type": "code",
   "execution_count": 16,
   "id": "f2ffd288-7b0f-419b-ab97-5d2f50de6e0a",
   "metadata": {},
   "outputs": [
    {
     "name": "stdout",
     "output_type": "stream",
     "text": [
      "Your STring contain only alphabhet\n"
     ]
    }
   ],
   "source": [
    "for char in string:\n",
    "    if char.isalpha():\n",
    "        print(\"Your STring contain only alphabhet\")\n",
    "        break\n",
    "    else:\n",
    "        print(\"your string contain not only alphabhet\")\n",
    "        break"
   ]
  },
  {
   "cell_type": "markdown",
   "id": "a69d7127-089e-4bc6-9101-9972842cd5b0",
   "metadata": {},
   "source": [
    "40. Convert a string to a list of characters.\n"
   ]
  },
  {
   "cell_type": "code",
   "execution_count": 19,
   "id": "ba1e6468-aa7f-4a08-984f-07968ad5d35b",
   "metadata": {},
   "outputs": [],
   "source": [
    "string = \"my namae is vishal\""
   ]
  },
  {
   "cell_type": "code",
   "execution_count": 30,
   "id": "3f269479-46f9-4f96-b62f-dbc8ef4e02ee",
   "metadata": {},
   "outputs": [],
   "source": [
    "list1= list(string)"
   ]
  },
  {
   "cell_type": "code",
   "execution_count": 31,
   "id": "480a253f-86a7-4645-a46b-83c2f2a58a99",
   "metadata": {},
   "outputs": [
    {
     "name": "stdout",
     "output_type": "stream",
     "text": [
      "['m', 'y', ' ', 'n', 'a', 'm', 'a', 'e', ' ', 'i', 's', ' ', 'v', 'i', 's', 'h', 'a', 'l'] "
     ]
    }
   ],
   "source": [
    "print(list1,end=' ')"
   ]
  },
  {
   "cell_type": "markdown",
   "id": "20b21bfe-896c-4fe6-9262-24156a92c244",
   "metadata": {},
   "source": [
    "41. Check if two strings are anagrams.\n"
   ]
  },
  {
   "cell_type": "code",
   "execution_count": 32,
   "id": "ea42cdc2-3e36-4afe-b70f-0ce0fa44db2a",
   "metadata": {},
   "outputs": [
    {
     "name": "stdin",
     "output_type": "stream",
     "text": [
      "Enter your first word : listen\n",
      "Enter your second word Here : silent\n"
     ]
    }
   ],
   "source": [
    "str1=input(\"Enter your first word :\")\n",
    "str2=input(\"Enter your second word Here :\")"
   ]
  },
  {
   "cell_type": "code",
   "execution_count": 34,
   "id": "f0ea706e-c570-44b5-9b29-9f337ddf31e2",
   "metadata": {},
   "outputs": [],
   "source": [
    "str1=str1.replace(\" \",\"\").lower()\n",
    "str2=str2.replace(\" \",\"\").lower()"
   ]
  },
  {
   "cell_type": "code",
   "execution_count": 37,
   "id": "af5fcbed-8f56-47b4-9650-aef64a8f6879",
   "metadata": {},
   "outputs": [
    {
     "name": "stdout",
     "output_type": "stream",
     "text": [
      "True\n"
     ]
    }
   ],
   "source": [
    "if len(str1) != len(str2):\n",
    "    print(\" False\")\n",
    "else:\n",
    "    sorted(str1)==sorted(str2)\n",
    "    print(\"True\")\n",
    "       "
   ]
  },
  {
   "cell_type": "markdown",
   "id": "75a435c9-5880-4528-b0db-066f8cb05d07",
   "metadata": {},
   "source": [
    "42. Encode a string using a Caesar cipher."
   ]
  },
  {
   "cell_type": "code",
   "execution_count": 38,
   "id": "c2d6ae09-4fb4-4704-84fd-ece3d8fe653c",
   "metadata": {},
   "outputs": [],
   "source": [
    "def caesar_cipher_encode(input_string, shift):\n",
    "    encoded_string = \"\"\n",
    "\n",
    "    for char in input_string:\n",
    "        if char.isalpha():\n",
    "            is_upper = char.isupper()\n",
    "            char = char.lower()\n",
    "            shifted = ord(char) + shift - ord('a')\n",
    "            shifted %= 26\n",
    "            shifted_char = chr(shifted + ord('a'))\n",
    "            if is_upper:\n",
    "                shifted_char = shifted_char.upper()\n",
    "            encoded_string += shifted_char\n",
    "        else:\n",
    "            encoded_string += char\n",
    "\n",
    "    return encoded_string"
   ]
  },
  {
   "cell_type": "code",
   "execution_count": 39,
   "id": "77645853-9c9c-4546-8486-a5a1b007b95f",
   "metadata": {},
   "outputs": [
    {
     "name": "stdout",
     "output_type": "stream",
     "text": [
      "Khoor, Zruog!\n"
     ]
    }
   ],
   "source": [
    "input_string = \"Hello, World!\"\n",
    "shift = 3\n",
    "encoded_string = caesar_cipher_encode(input_string, shift)\n",
    "print(encoded_string) "
   ]
  },
  {
   "cell_type": "markdown",
   "id": "c1a66f40-ccf2-4df9-8de8-9957c42c8a15",
   "metadata": {},
   "source": [
    "43. Decode a Caesar cipher encoded string."
   ]
  },
  {
   "cell_type": "code",
   "execution_count": 40,
   "id": "23c62efe-7d53-4805-8dad-02f425ec6aab",
   "metadata": {},
   "outputs": [],
   "source": [
    "def caesar_cipher_decode(encoded_string, shift):\n",
    "    decoded_string = \"\"\n",
    "\n",
    "    for char in encoded_string:\n",
    "        if char.isalpha():\n",
    "            is_upper = char.isupper()\n",
    "            char = char.lower()\n",
    "            shifted = ord(char) - shift - ord('a')\n",
    "            shifted %= 26\n",
    "            shifted_char = chr(shifted + ord('a'))\n",
    "            if is_upper:\n",
    "                shifted_char = shifted_char.upper()\n",
    "            decoded_string += shifted_char\n",
    "        else:\n",
    "            decoded_string += char\n",
    "\n",
    "    return decoded_string"
   ]
  },
  {
   "cell_type": "code",
   "execution_count": 41,
   "id": "41800144-f52e-4a0b-bbba-a7c19de8683e",
   "metadata": {},
   "outputs": [
    {
     "name": "stdout",
     "output_type": "stream",
     "text": [
      "Hello, World!\n"
     ]
    }
   ],
   "source": [
    "encoded_string = \"Khoor, Zruog!\"\n",
    "shift = 3\n",
    "decoded_string = caesar_cipher_decode(encoded_string, shift)\n",
    "print(decoded_string)"
   ]
  },
  {
   "cell_type": "markdown",
   "id": "037748b0-eb80-4dcc-a640-cb715787c657",
   "metadata": {},
   "source": [
    "44. Find the most frequent word in a string.\n"
   ]
  },
  {
   "cell_type": "code",
   "execution_count": 42,
   "id": "e83ac763-e202-429b-9f8f-3cb9a6baffcf",
   "metadata": {},
   "outputs": [],
   "source": [
    "str1=\"This is a test. This is only a test. Test, test, 1, 2, 3.\""
   ]
  },
  {
   "cell_type": "code",
   "execution_count": 45,
   "id": "16ac8350-3fdc-47f0-8b9c-395d0c024da1",
   "metadata": {},
   "outputs": [],
   "source": [
    "words=str1.split()"
   ]
  },
  {
   "cell_type": "code",
   "execution_count": 46,
   "id": "0618ede9-5d78-4af4-b2be-c15b2c08e756",
   "metadata": {},
   "outputs": [],
   "source": [
    "word_freq={}"
   ]
  },
  {
   "cell_type": "code",
   "execution_count": 48,
   "id": "ef0d3473-fa32-4c6a-8c80-a810b3b4ac3f",
   "metadata": {},
   "outputs": [],
   "source": [
    "for word in words:\n",
    "    word = word.strip(\".,!?\\\"'\")\n",
    "    word=word.lower()\n",
    "    if word:\n",
    "        if word in word_freq:\n",
    "            word_freq[word] +=1\n",
    "        else:\n",
    "            word_freq[word]=1\n",
    "most_freq= max(word_freq,key=word_freq.get)"
   ]
  },
  {
   "cell_type": "code",
   "execution_count": 49,
   "id": "2d297d1d-2197-4d70-9b3c-27683d4da018",
   "metadata": {},
   "outputs": [
    {
     "data": {
      "text/plain": [
       "'test'"
      ]
     },
     "execution_count": 49,
     "metadata": {},
     "output_type": "execute_result"
    }
   ],
   "source": [
    "most_freq"
   ]
  },
  {
   "cell_type": "markdown",
   "id": "5370b65d-1c09-466e-aa54-8b7b02bea073",
   "metadata": {},
   "source": [
    "45. Find all unique words in a string"
   ]
  },
  {
   "cell_type": "code",
   "execution_count": 69,
   "id": "579f6a76-d074-426b-a531-9b5ad76cdf5d",
   "metadata": {},
   "outputs": [],
   "source": [
    "def find_unique_words(input_string):\n",
    "    words = input_string.split()\n",
    "    unique_words = set()\n",
    "\n",
    "    for word in words:\n",
    "        word = word.strip(\".,!?\\\"'\").lower()\n",
    "        if word:\n",
    "            unique_words.add(word)\n",
    "    return list(unique_words)\n"
   ]
  },
  {
   "cell_type": "code",
   "execution_count": 70,
   "id": "370173c6-55ce-40e4-a360-6a53bb898a39",
   "metadata": {},
   "outputs": [
    {
     "name": "stdout",
     "output_type": "stream",
     "text": [
      "Unique words in the string:\n",
      "3\n",
      "a\n",
      "this\n",
      "only\n",
      "test\n",
      "1\n",
      "2\n",
      "is\n"
     ]
    }
   ],
   "source": [
    "input_string = \"This is a test. This is only a test. Test, test, 1, 2, 3.\"\n",
    "unique_words = find_unique_words(input_string)\n",
    "print(\"Unique words in the string:\")\n",
    "for word in unique_words:\n",
    "    print(word)"
   ]
  },
  {
   "cell_type": "markdown",
   "id": "e5199fbf-1f68-4b47-b02d-a7c7050764f3",
   "metadata": {},
   "source": [
    "46. Count the number of syllables in a string"
   ]
  },
  {
   "cell_type": "code",
   "execution_count": 71,
   "id": "e5e700de-1bab-436e-9b90-8dada03d6839",
   "metadata": {},
   "outputs": [
    {
     "name": "stdout",
     "output_type": "stream",
     "text": [
      "Total syllables in the string: 12\n"
     ]
    }
   ],
   "source": [
    "def count_syllables(word):\n",
    "    # Remove common suffixes that do not contribute to syllable count\n",
    "    word = word.lower().rstrip('.,!?\":;')\n",
    "\n",
    "    # Define a list of common prefixes and suffixes\n",
    "    prefixes = [\"re\", \"un\", \"pre\", \"dis\", \"mis\", \"sub\", \"in\", \"non\"]\n",
    "    suffixes = [\"es\", \"ed\", \"er\", \"ly\", \"ing\", \"less\"]\n",
    "\n",
    "    # Initialize the syllable count\n",
    "    syllable_count = 0\n",
    "\n",
    "    # Count vowel sequences (not perfect, but works for many cases)\n",
    "    is_previous_vowel = False\n",
    "    for char in word:\n",
    "        if char in \"aeiouy\":\n",
    "            if not is_previous_vowel:\n",
    "                syllable_count += 1\n",
    "            is_previous_vowel = True\n",
    "        else:\n",
    "            is_previous_vowel = False\n",
    "\n",
    "    # Adjust the count based on prefixes and suffixes\n",
    "    for prefix in prefixes:\n",
    "        if word.startswith(prefix):\n",
    "            syllable_count -= 1\n",
    "    for suffix in suffixes:\n",
    "        if word.endswith(suffix):\n",
    "            syllable_count -= 1\n",
    "\n",
    "    # Ensure at least one syllable\n",
    "    if syllable_count == 0:\n",
    "        syllable_count = 1\n",
    "\n",
    "    return syllable_count\n",
    "\n",
    "# Example usage:\n",
    "input_string = \"Hello, World! This is an example sentence.\"\n",
    "words = input_string.split()\n",
    "total_syllables = sum(count_syllables(word) for word in words)\n",
    "print(f\"Total syllables in the string: {total_syllables}\")\n"
   ]
  },
  {
   "cell_type": "markdown",
   "id": "3465590f-02d7-49b7-81bb-de4565c040d5",
   "metadata": {},
   "source": [
    "47. Check if a string contains any special characters."
   ]
  },
  {
   "cell_type": "code",
   "execution_count": 72,
   "id": "a3be08b9-6f2c-433b-870c-7c10b1e6cf91",
   "metadata": {},
   "outputs": [],
   "source": [
    "def contains_special_characters(input_string):\n",
    "    acceptable_characters = set(\"abcdefghijklmnopqrstuvwxyzABCDEFGHIJKLMNOPQRSTUVWXYZ0123456789,.!?-\")\n",
    "    for char in input_string:\n",
    "        if char not in acceptable_characters:\n",
    "            return True\n",
    "\n",
    "    return False\n"
   ]
  },
  {
   "cell_type": "code",
   "execution_count": 74,
   "id": "c536d7b9-d2f1-4bbd-8b51-33457caacb1b",
   "metadata": {},
   "outputs": [
    {
     "name": "stdout",
     "output_type": "stream",
     "text": [
      "True\n"
     ]
    }
   ],
   "source": [
    "\n",
    "input_string1 = \"Hello, World!\"\n",
    "input_string2 = \"This is a sample string with @#$ special characters.\"\n",
    "\n",
    "print(contains_special_characters(input_string1))  \n"
   ]
  },
  {
   "cell_type": "markdown",
   "id": "3e07210f-b3df-4fba-b1c2-e9bfcc0d3de1",
   "metadata": {},
   "source": [
    "48. Remove the nth word from a string.\n"
   ]
  },
  {
   "cell_type": "code",
   "execution_count": 75,
   "id": "19d38fcc-2181-4393-a636-7f86e7eced6d",
   "metadata": {},
   "outputs": [
    {
     "name": "stdout",
     "output_type": "stream",
     "text": [
      "This is sample sentence to remove a word from.\n"
     ]
    }
   ],
   "source": [
    "def remove_nth_word(input_string, n):\n",
    "    # Split the input string into words\n",
    "    words = input_string.split()\n",
    "\n",
    "    # Check if the specified position is valid\n",
    "    if 1 <= n <= len(words):\n",
    "        # Remove the nth word (adjust for 0-based index)\n",
    "        words.pop(n - 1)\n",
    "\n",
    "        # Join the remaining words back together\n",
    "        updated_string = \" \".join(words)\n",
    "\n",
    "        return updated_string\n",
    "    else:\n",
    "        # Invalid position, return the original string\n",
    "        return input_string\n",
    "\n",
    "# Example usage:\n",
    "input_string = \"This is a sample sentence to remove a word from.\"\n",
    "\n",
    "n = 3  # Remove the 3rd word (word \"a\")\n",
    "updated_string = remove_nth_word(input_string, n)\n",
    "print(updated_string)  # Output: \"This is sample sentence to remove word from.\"\n"
   ]
  },
  {
   "cell_type": "markdown",
   "id": "195aad17-78be-40fa-9db6-b29487ad7c67",
   "metadata": {},
   "source": [
    "49. Insert a word at the nth position in a string"
   ]
  },
  {
   "cell_type": "code",
   "execution_count": 76,
   "id": "dd64697d-907d-47e1-a4c4-8c3d8f953054",
   "metadata": {},
   "outputs": [
    {
     "name": "stdout",
     "output_type": "stream",
     "text": [
      "This is a new sample sentence to insert into.\n"
     ]
    }
   ],
   "source": [
    "def insert_word_at_position(input_string, word_to_insert, n):\n",
    "    # Split the input string into words\n",
    "    words = input_string.split()\n",
    "\n",
    "    # Check if the specified position is valid\n",
    "    if 0 <= n <= len(words):\n",
    "        # Insert the word at the specified position\n",
    "        words.insert(n, word_to_insert)\n",
    "\n",
    "        # Join the words back together\n",
    "        updated_string = \" \".join(words)\n",
    "\n",
    "        return updated_string\n",
    "    else:\n",
    "        # Invalid position, return the original string\n",
    "        return input_string\n",
    "\n",
    "# Example usage:\n",
    "input_string = \"This is a sample sentence to insert into.\"\n",
    "\n",
    "word_to_insert = \"new\"\n",
    "n = 3  # Insert the word at the 3rd position\n",
    "updated_string = insert_word_at_position(input_string, word_to_insert, n)\n",
    "print(updated_string)  # Output: \"This is a new sample sentence to insert into.\"\n"
   ]
  },
  {
   "cell_type": "markdown",
   "id": "592bee43-754e-4eae-8ad4-465ff0cb54b2",
   "metadata": {},
   "source": [
    "50. Convert a CSV string to a list of lists."
   ]
  },
  {
   "cell_type": "code",
   "execution_count": 77,
   "id": "8846ec87-69cc-4537-a9d9-bfef4f669752",
   "metadata": {},
   "outputs": [
    {
     "name": "stdout",
     "output_type": "stream",
     "text": [
      "['1', 'John', 'Smith']\n",
      "['2', 'Jane', 'Doe']\n",
      "['3', 'Robert', 'Johnson']\n"
     ]
    }
   ],
   "source": [
    "def csv_string_to_list(csv_string):\n",
    "    # Split the CSV string into lines\n",
    "    lines = csv_string.split('\\n')\n",
    "    \n",
    "    # Initialize a list to store the result\n",
    "    result = []\n",
    "    \n",
    "    # Split each line into fields and append them as lists\n",
    "    for line in lines:\n",
    "        fields = line.split(',')\n",
    "        result.append(fields)\n",
    "    \n",
    "    return result\n",
    "\n",
    "# Example usage:\n",
    "csv_string = \"1,John,Smith\\n2,Jane,Doe\\n3,Robert,Johnson\"\n",
    "csv_list = csv_string_to_list(csv_string)\n",
    "\n",
    "for row in csv_list:\n",
    "    print(row)\n"
   ]
  },
  {
   "cell_type": "markdown",
   "id": "5bc81733-fda8-4be5-844d-7ac8c1d282af",
   "metadata": {},
   "source": [
    "List Based Practice Problem :"
   ]
  },
  {
   "cell_type": "markdown",
   "id": "26f997f2-4d40-40cd-9668-7a7125f61af8",
   "metadata": {},
   "source": [
    "1. Create a list with integers from 1 to 10.\n"
   ]
  },
  {
   "cell_type": "code",
   "execution_count": 37,
   "id": "1130441e-edaf-42ca-8dff-c6e829f878c8",
   "metadata": {},
   "outputs": [
    {
     "data": {
      "text/plain": [
       "[1, 2, 3, 4, 5, 6, 7, 8, 9]"
      ]
     },
     "execution_count": 37,
     "metadata": {},
     "output_type": "execute_result"
    }
   ],
   "source": [
    "list1=[i for i in range(1,10)]\n",
    "list1"
   ]
  },
  {
   "cell_type": "markdown",
   "id": "93b67e90-7884-4785-9fa6-b91dba3288b8",
   "metadata": {},
   "source": [
    "2. Find the length of a list without using the `len()` function."
   ]
  },
  {
   "cell_type": "code",
   "execution_count": 38,
   "id": "377a4acb-dfba-47eb-ab8d-2551b5c7455c",
   "metadata": {},
   "outputs": [],
   "source": [
    "list2=[1,2,3,4,5]\n",
    "count =0\n",
    "for _ in list2:\n",
    "    count+=1"
   ]
  },
  {
   "cell_type": "code",
   "execution_count": 39,
   "id": "47bdb0e8-f609-4dfc-a209-1f469608afe3",
   "metadata": {},
   "outputs": [
    {
     "data": {
      "text/plain": [
       "5"
      ]
     },
     "execution_count": 39,
     "metadata": {},
     "output_type": "execute_result"
    }
   ],
   "source": [
    "count"
   ]
  },
  {
   "cell_type": "markdown",
   "id": "7f128469-853f-41da-bac2-86b81ca92fea",
   "metadata": {},
   "source": [
    "3. Append an element to the end of a list."
   ]
  },
  {
   "cell_type": "code",
   "execution_count": 41,
   "id": "ae5e6f0a-b348-4518-a106-1587581dab20",
   "metadata": {},
   "outputs": [],
   "source": [
    "list3 = [10,20,30,40]\n",
    "list3.append(50)"
   ]
  },
  {
   "cell_type": "code",
   "execution_count": 42,
   "id": "686358e2-6981-4236-9f6c-163202d5562b",
   "metadata": {},
   "outputs": [
    {
     "name": "stdout",
     "output_type": "stream",
     "text": [
      "[10, 20, 30, 40, 50]\n"
     ]
    }
   ],
   "source": [
    "print(list3)"
   ]
  },
  {
   "cell_type": "markdown",
   "id": "6c9c075d-caf7-4d60-ab5b-e3fc065ad133",
   "metadata": {},
   "source": [
    "4. Insert an element at a specific index in a list."
   ]
  },
  {
   "cell_type": "code",
   "execution_count": 43,
   "id": "64a433bb-c358-47ec-bc60-20a18b0ed752",
   "metadata": {},
   "outputs": [],
   "source": [
    "list4=['a','b','c','d']"
   ]
  },
  {
   "cell_type": "code",
   "execution_count": 44,
   "id": "1c404fad-b943-4c06-ad7e-dd7db0da0e87",
   "metadata": {},
   "outputs": [],
   "source": [
    "list4.insert(4,'e')"
   ]
  },
  {
   "cell_type": "code",
   "execution_count": 45,
   "id": "69c0755e-9f56-43b5-b99e-6d64efb4c20d",
   "metadata": {},
   "outputs": [
    {
     "data": {
      "text/plain": [
       "['a', 'b', 'c', 'd', 'e']"
      ]
     },
     "execution_count": 45,
     "metadata": {},
     "output_type": "execute_result"
    }
   ],
   "source": [
    "list4"
   ]
  },
  {
   "cell_type": "markdown",
   "id": "2e702914-0bd7-4758-8779-6263aa8c0770",
   "metadata": {},
   "source": [
    "5. Remove an element from a list by its value"
   ]
  },
  {
   "cell_type": "code",
   "execution_count": 46,
   "id": "f14eeb0c-a066-4076-ad5e-800a429feb4e",
   "metadata": {},
   "outputs": [],
   "source": [
    "list5=[1,2,3,4,5,6]"
   ]
  },
  {
   "cell_type": "code",
   "execution_count": 47,
   "id": "42a59afe-9ea5-4867-af41-482fd0c77c8c",
   "metadata": {},
   "outputs": [],
   "source": [
    "list5.remove(6)"
   ]
  },
  {
   "cell_type": "code",
   "execution_count": 48,
   "id": "49c7c57f-b30e-477f-b619-ab2355fcffb7",
   "metadata": {},
   "outputs": [
    {
     "data": {
      "text/plain": [
       "[1, 2, 3, 4, 5]"
      ]
     },
     "execution_count": 48,
     "metadata": {},
     "output_type": "execute_result"
    }
   ],
   "source": [
    "list5"
   ]
  },
  {
   "cell_type": "markdown",
   "id": "75e7e3e4-0e81-4379-b222-7928ebcce52f",
   "metadata": {},
   "source": [
    "6. Remove an element from a list by its index."
   ]
  },
  {
   "cell_type": "code",
   "execution_count": 49,
   "id": "fca9c19c-b013-49c1-a515-e973e331793f",
   "metadata": {},
   "outputs": [
    {
     "data": {
      "text/plain": [
       "[10, 20, 40]"
      ]
     },
     "execution_count": 49,
     "metadata": {},
     "output_type": "execute_result"
    }
   ],
   "source": [
    "list6=[10,20,30,40]\n",
    "list6.pop(2)\n",
    "list6"
   ]
  },
  {
   "cell_type": "markdown",
   "id": "92c1de2e-a699-4480-a6d0-612dc1c6d6ec",
   "metadata": {},
   "source": [
    "7. Check if an element exists in a list.\n"
   ]
  },
  {
   "cell_type": "code",
   "execution_count": 50,
   "id": "f81787bd-a8dd-4847-8af6-42a0b75ef67f",
   "metadata": {},
   "outputs": [],
   "source": [
    "list7=['apple','banana','cherry','date']"
   ]
  },
  {
   "cell_type": "code",
   "execution_count": 51,
   "id": "2880f2e9-91c4-469b-8ec3-134d59f2a8a3",
   "metadata": {},
   "outputs": [],
   "source": [
    "check= 'date'"
   ]
  },
  {
   "cell_type": "code",
   "execution_count": 52,
   "id": "e5f4e3d3-80d9-4bfc-8359-1804d8f5cfce",
   "metadata": {},
   "outputs": [
    {
     "name": "stdout",
     "output_type": "stream",
     "text": [
      "list containing element\n"
     ]
    }
   ],
   "source": [
    "if check in list7:\n",
    "    print (\"list containing element\")\n",
    "else:\n",
    "    print(\"list does not contain any element\")"
   ]
  },
  {
   "cell_type": "markdown",
   "id": "3ea8042c-3099-4137-95b7-0d9c39c866cc",
   "metadata": {},
   "source": [
    "8. Find the index of the first occurrence of an element in a list"
   ]
  },
  {
   "cell_type": "code",
   "execution_count": 53,
   "id": "5758efc8-bf27-41a0-9fbe-63966622d2fb",
   "metadata": {},
   "outputs": [
    {
     "name": "stdout",
     "output_type": "stream",
     "text": [
      "the element 5 is index is 4\n"
     ]
    }
   ],
   "source": [
    "list8=[1,2,3,4,5]\n",
    "element_check=5\n",
    "index=list8.index(element_check)\n",
    "print(f\"the element {element_check} is index is {index}\")"
   ]
  },
  {
   "cell_type": "markdown",
   "id": "0f75f5c2-7265-4c2c-bc9f-961a82ed54a5",
   "metadata": {},
   "source": [
    "9. Count the occurrences of an element in a list.\n"
   ]
  },
  {
   "cell_type": "code",
   "execution_count": 54,
   "id": "2e0738dd-94a2-4b9e-b259-48fba72a56fa",
   "metadata": {},
   "outputs": [
    {
     "name": "stdout",
     "output_type": "stream",
     "text": [
      "1 is present 5 time\n"
     ]
    }
   ],
   "source": [
    "list9=[1,2,3,1,5,1,3,4,5,6,2,4,5,7,2,1,3,5,4,56,2,54,2,13,2,1]\n",
    "count_the_occurrences=1\n",
    "count=list9.count(count_the_occurrences)\n",
    "print(f\"{count_the_occurrences} is present {count} time\")"
   ]
  },
  {
   "cell_type": "markdown",
   "id": "e476dd44-ac07-4bef-8ae9-b0d92af1e9cc",
   "metadata": {},
   "source": [
    "10. Reverse the order of elements in a list."
   ]
  },
  {
   "cell_type": "code",
   "execution_count": 56,
   "id": "82df3f2c-c33c-41bf-ab61-70d414c44936",
   "metadata": {},
   "outputs": [
    {
     "name": "stdout",
     "output_type": "stream",
     "text": [
      "[60, 50, 40, 30, 20, 10]\n"
     ]
    }
   ],
   "source": [
    "list10=[10,20,30,40,50,60]\n",
    "revers=list10.reverse()\n",
    "print(list10)"
   ]
  },
  {
   "cell_type": "markdown",
   "id": "05f4ae87-5720-455e-b8d0-a3f11937d2c4",
   "metadata": {},
   "source": [
    "11. Sort a list in ascending order."
   ]
  },
  {
   "cell_type": "code",
   "execution_count": 57,
   "id": "08237c61-4ec1-4297-a570-507307922787",
   "metadata": {},
   "outputs": [
    {
     "data": {
      "text/plain": [
       "[0, 1, 3, 3, 5, 6, 7, 7, 8, 9, 32]"
      ]
     },
     "execution_count": 57,
     "metadata": {},
     "output_type": "execute_result"
    }
   ],
   "source": [
    "list11=[5,6,7,32,7,3,0,9,1,3,8]\n",
    "list11.sort()\n",
    "list11\n"
   ]
  },
  {
   "cell_type": "markdown",
   "id": "b8f50862-d9e5-44d5-a0da-1dab0091fd17",
   "metadata": {},
   "source": [
    "12. Sort a list in descending order."
   ]
  },
  {
   "cell_type": "code",
   "execution_count": 58,
   "id": "48deafb7-c61e-42cf-89a8-d7ebcdedbca4",
   "metadata": {},
   "outputs": [
    {
     "data": {
      "text/plain": [
       "['s', 'q', 'g', 'f', 'c', 'a']"
      ]
     },
     "execution_count": 58,
     "metadata": {},
     "output_type": "execute_result"
    }
   ],
   "source": [
    "list12 = ['s','g','q','f','a','c']\n",
    "list12.sort(reverse=True)\n",
    "list12"
   ]
  },
  {
   "cell_type": "markdown",
   "id": "cbba4769-842c-4db2-9480-54dec26e104e",
   "metadata": {},
   "source": [
    "13. Create a list of even numbers from 1 to 20.\n"
   ]
  },
  {
   "cell_type": "code",
   "execution_count": 59,
   "id": "1dde6fc6-c8e5-47c9-a275-b7aac76b62b5",
   "metadata": {},
   "outputs": [
    {
     "data": {
      "text/plain": [
       "[2, 4, 6, 8, 10, 12, 14, 16, 18]"
      ]
     },
     "execution_count": 59,
     "metadata": {},
     "output_type": "execute_result"
    }
   ],
   "source": [
    "list13=[x for x in  range(2,20,2)]\n",
    "list13\n",
    "      "
   ]
  },
  {
   "cell_type": "markdown",
   "id": "6797f9fc-0d85-426c-b59e-83579fb27e92",
   "metadata": {},
   "source": [
    "14. Create a list of odd numbers from 1 to 20."
   ]
  },
  {
   "cell_type": "code",
   "execution_count": 60,
   "id": "af24ab23-8bcf-4830-832c-bdcd8da20bec",
   "metadata": {},
   "outputs": [
    {
     "data": {
      "text/plain": [
       "[1, 3, 5, 7, 9, 11, 13, 15, 17, 19]"
      ]
     },
     "execution_count": 60,
     "metadata": {},
     "output_type": "execute_result"
    }
   ],
   "source": [
    "list14=[x for x in range(1,20,2)]\n",
    "list14"
   ]
  },
  {
   "cell_type": "markdown",
   "id": "f4a983d5-2724-4ed9-9f84-cfd9e2c751e4",
   "metadata": {},
   "source": [
    "15. Find the sum of all elements in a list"
   ]
  },
  {
   "cell_type": "code",
   "execution_count": 61,
   "id": "8b28f00e-ca00-4c1c-a76b-56da9bc33fda",
   "metadata": {},
   "outputs": [
    {
     "name": "stdout",
     "output_type": "stream",
     "text": [
      "28\n"
     ]
    }
   ],
   "source": [
    "list15=[2,4,1,3,5,6,7]\n",
    "count=0\n",
    "for x in list15:\n",
    "    count+=x\n",
    "print(count)\n",
    "    "
   ]
  },
  {
   "cell_type": "markdown",
   "id": "d266b6fa-4472-42a1-bed4-0fa47247aafe",
   "metadata": {},
   "source": [
    "16. Find the maximum value in a list"
   ]
  },
  {
   "cell_type": "code",
   "execution_count": 2,
   "id": "be1f4b3d-af46-42ae-8859-f21581dfe37d",
   "metadata": {},
   "outputs": [
    {
     "data": {
      "text/plain": [
       "8"
      ]
     },
     "execution_count": 2,
     "metadata": {},
     "output_type": "execute_result"
    }
   ],
   "source": [
    "ori_list = [2, 4, 1, 3, 5, 6, 7, 8]\n",
    "max_list = max(ori_list)\n",
    "max_list"
   ]
  },
  {
   "cell_type": "markdown",
   "id": "2d38e13b-bfde-4eab-acda-f422d4317856",
   "metadata": {},
   "source": [
    "17. Find the minimum value in a list."
   ]
  },
  {
   "cell_type": "code",
   "execution_count": 3,
   "id": "0a459589-56ce-4a61-8d44-e7c7b68b00af",
   "metadata": {},
   "outputs": [
    {
     "data": {
      "text/plain": [
       "10"
      ]
     },
     "execution_count": 3,
     "metadata": {},
     "output_type": "execute_result"
    }
   ],
   "source": [
    "list17 = [10, 20, 30, 40, 50]\n",
    "min=min(list17)\n",
    "min"
   ]
  },
  {
   "cell_type": "markdown",
   "id": "e8a52961-bc4f-4d6a-91c4-9df35193a996",
   "metadata": {},
   "source": [
    "18. Create a list of squares of numbers from 1 to 10"
   ]
  },
  {
   "cell_type": "code",
   "execution_count": 4,
   "id": "d7fd6a29-3d18-45bb-8841-95e03cc584e2",
   "metadata": {},
   "outputs": [
    {
     "data": {
      "text/plain": [
       "[1, 4, 9, 16, 25, 36, 49, 64, 81]"
      ]
     },
     "execution_count": 4,
     "metadata": {},
     "output_type": "execute_result"
    }
   ],
   "source": [
    "list18=[x**2 for x in range(1,10)]\n",
    "list18"
   ]
  },
  {
   "cell_type": "markdown",
   "id": "47104eb7-5464-47c6-b2e2-001948d09757",
   "metadata": {},
   "source": [
    "19. Create a list of random numbers.\n"
   ]
  },
  {
   "cell_type": "code",
   "execution_count": 18,
   "id": "b2a609f1-4bbe-4027-979c-1de43b0cbb04",
   "metadata": {},
   "outputs": [],
   "source": [
    "import random"
   ]
  },
  {
   "cell_type": "code",
   "execution_count": 26,
   "id": "a08cf752-2374-4b10-b6a9-a3528baad834",
   "metadata": {},
   "outputs": [
    {
     "name": "stdout",
     "output_type": "stream",
     "text": [
      "[11, 16, 80, 31, 96, 70, 20, 69, 86, 9]\n"
     ]
    }
   ],
   "source": [
    "random_numbers = [random.randint(1,100) for _ in range(10)]\n",
    "\n",
    "print(random_numbers)"
   ]
  },
  {
   "cell_type": "markdown",
   "id": "f5ff5c55-935e-46f0-a852-a23b84dad487",
   "metadata": {},
   "source": [
    "20. Remove duplicates from a list"
   ]
  },
  {
   "cell_type": "code",
   "execution_count": 6,
   "id": "f2511ffe-7b44-4f1e-9481-24f938bbd487",
   "metadata": {},
   "outputs": [
    {
     "name": "stdout",
     "output_type": "stream",
     "text": [
      "[1, 2, 3, 4, 5]\n"
     ]
    }
   ],
   "source": [
    "original_list = [1, 2, 2, 3, 4, 4, 5]\n",
    "unique_list = list(set(original_list))\n",
    "print(unique_list)"
   ]
  },
  {
   "cell_type": "markdown",
   "id": "d1b3c007-53e1-4066-ad72-138bbda02e47",
   "metadata": {},
   "source": [
    "21. Find the common elements between two lists."
   ]
  },
  {
   "cell_type": "code",
   "execution_count": 7,
   "id": "8d3294ac-b876-475b-b254-5dbd86e439e3",
   "metadata": {},
   "outputs": [
    {
     "name": "stdout",
     "output_type": "stream",
     "text": [
      "[3, 4, 5]\n"
     ]
    }
   ],
   "source": [
    "list1 = [1, 2, 3, 4, 5]\n",
    "list2 = [3, 4, 5, 6, 7]\n",
    "\n",
    "common_elements = []\n",
    "\n",
    "for element in list1:\n",
    "    if element in list2:\n",
    "        common_elements.append(element)\n",
    "\n",
    "print(common_elements)"
   ]
  },
  {
   "cell_type": "markdown",
   "id": "7d8fda7a-d3f3-4531-a442-c9394132ebe1",
   "metadata": {},
   "source": [
    "22. Find the difference between two lists.\n"
   ]
  },
  {
   "cell_type": "code",
   "execution_count": 8,
   "id": "55074d05-06f6-4ce6-8bc9-6d660489ac9f",
   "metadata": {},
   "outputs": [
    {
     "name": "stdout",
     "output_type": "stream",
     "text": [
      "[1, 2]\n"
     ]
    }
   ],
   "source": [
    "list1 = [1, 2, 3, 4, 5]\n",
    "list2 = [3, 4, 5, 6, 7]\n",
    "\n",
    "difference = []\n",
    "\n",
    "for element in list1:\n",
    "    if element not in list2:\n",
    "        difference.append(element)\n",
    "\n",
    "print(difference)\n"
   ]
  },
  {
   "cell_type": "markdown",
   "id": "6d248e0d-7ef8-4298-b424-af01b151f45c",
   "metadata": {},
   "source": [
    "23. Merge two lists."
   ]
  },
  {
   "cell_type": "code",
   "execution_count": 9,
   "id": "6d9bb277-634c-47f6-a0d0-e98d73ea3e5a",
   "metadata": {},
   "outputs": [],
   "source": [
    "list1 = [1, 2, 3]\n",
    "list2 = [4, 5, 6]"
   ]
  },
  {
   "cell_type": "code",
   "execution_count": 12,
   "id": "ee2c6e03-5d23-4c0b-a6b4-bf7989151e44",
   "metadata": {},
   "outputs": [
    {
     "data": {
      "text/plain": [
       "[1, 2, 3, 4, 5, 6, 4, 5, 6]"
      ]
     },
     "execution_count": 12,
     "metadata": {},
     "output_type": "execute_result"
    }
   ],
   "source": [
    "list1.extend(list2)\n",
    "list1\n"
   ]
  },
  {
   "cell_type": "markdown",
   "id": "3e3f9eec-cf73-4d5e-af67-6b716c56f077",
   "metadata": {},
   "source": [
    "24. Multiply all elements in a list by 2."
   ]
  },
  {
   "cell_type": "code",
   "execution_count": 13,
   "id": "5b541868-83fd-44f3-a8eb-de451e285afa",
   "metadata": {},
   "outputs": [
    {
     "data": {
      "text/plain": [
       "[2, 10, 8, 4, 6, 12, 18, 16, 14]"
      ]
     },
     "execution_count": 13,
     "metadata": {},
     "output_type": "execute_result"
    }
   ],
   "source": [
    "list1=[1,5,4,2,3,6,9,8,7]\n",
    "new_list=[x*2 for x in list1]\n",
    "new_list"
   ]
  },
  {
   "cell_type": "markdown",
   "id": "ec0046b7-f672-4160-ae8e-75b075412236",
   "metadata": {},
   "source": [
    "25. Filter out all even numbers from a list."
   ]
  },
  {
   "cell_type": "code",
   "execution_count": 14,
   "id": "83717495-e910-435c-bffd-20375678757a",
   "metadata": {},
   "outputs": [
    {
     "data": {
      "text/plain": [
       "[1, 5, 3, 9, 7]"
      ]
     },
     "execution_count": 14,
     "metadata": {},
     "output_type": "execute_result"
    }
   ],
   "source": [
    "list1=[1,5,4,2,3,6,9,8,7]\n",
    "even_list=[x for x in list1 if x%2!=0]\n",
    "even_list"
   ]
  },
  {
   "cell_type": "markdown",
   "id": "dd5fcd36-044d-4ef5-8e99-ea32c4a90d9f",
   "metadata": {},
   "source": [
    "26. Convert a list of strings to a list of integers.\n"
   ]
  },
  {
   "cell_type": "code",
   "execution_count": 15,
   "id": "0146b844-9561-4099-a7f7-1554a52e97ac",
   "metadata": {},
   "outputs": [
    {
     "data": {
      "text/plain": [
       "[10, 20, 30, 40, 50]"
      ]
     },
     "execution_count": 15,
     "metadata": {},
     "output_type": "execute_result"
    }
   ],
   "source": [
    "list1=['10','20','30','40','50']\n",
    "int_list = [int(x) for x in list1]\n",
    "int_list"
   ]
  },
  {
   "cell_type": "markdown",
   "id": "48243ac7-6237-4f7f-a25c-d1cf9c4fecc0",
   "metadata": {},
   "source": [
    "27. Convert a list of integers to a list of strings."
   ]
  },
  {
   "cell_type": "code",
   "execution_count": 16,
   "id": "8f21acdc-8581-4ee8-bca1-0f271e3adf39",
   "metadata": {},
   "outputs": [],
   "source": [
    "int_list = [1, 5, 4, 2, 3, 6, 9, 8, 7]"
   ]
  },
  {
   "cell_type": "code",
   "execution_count": 17,
   "id": "1027b99d-666e-48bf-9cd9-b31fec530bda",
   "metadata": {},
   "outputs": [
    {
     "name": "stdout",
     "output_type": "stream",
     "text": [
      "['1', '5', '4', '2', '3', '6', '9', '8', '7']\n"
     ]
    }
   ],
   "source": [
    "string_list = [str(x) for x in int_list]\n",
    "\n",
    "print(string_list)"
   ]
  },
  {
   "cell_type": "markdown",
   "id": "64d40517-c445-4f2d-9796-d9546bfbd888",
   "metadata": {},
   "source": [
    "28. Flatten a nested list.\n"
   ]
  },
  {
   "cell_type": "code",
   "execution_count": 19,
   "id": "d49d1767-73a7-4f32-aed0-b725ba3b0415",
   "metadata": {},
   "outputs": [
    {
     "name": "stdout",
     "output_type": "stream",
     "text": [
      "[1, 2, 3, 4, 5, 6, 7, 8, 9]\n"
     ]
    }
   ],
   "source": [
    "def flatten_list(nested_list):\n",
    "    flattened = []\n",
    "    for item in nested_list:\n",
    "        if isinstance(item, list):\n",
    "            flattened.extend(flatten_list(item))\n",
    "        else:\n",
    "            flattened.append(item)\n",
    "    return flattened\n",
    "\n",
    "flattened_list = flatten_list(nested_list)\n",
    "print(flattened_list)\n"
   ]
  },
  {
   "cell_type": "markdown",
   "id": "69b16b34-ffe9-46a8-9086-7dd2673fe159",
   "metadata": {},
   "source": [
    "29. Create a list of the first 10 Fibonacci numbers.\n"
   ]
  },
  {
   "cell_type": "code",
   "execution_count": 20,
   "id": "82f46e4c-1597-4efe-adc1-a4e885c4ab77",
   "metadata": {},
   "outputs": [
    {
     "name": "stdout",
     "output_type": "stream",
     "text": [
      "[0, 1, 1, 2, 3, 5, 8, 13, 21, 34]\n"
     ]
    }
   ],
   "source": [
    "\n",
    "fibonacci_numbers = [0, 1]\n",
    "\n",
    "for _ in range(8):\n",
    "    next_fibonacci = fibonacci_numbers[-1] + fibonacci_numbers[-2]\n",
    "    fibonacci_numbers.append(next_fibonacci)\n",
    "\n",
    "print(fibonacci_numbers)\n"
   ]
  },
  {
   "cell_type": "markdown",
   "id": "26a8cf50-618f-4da9-8d3b-5d4e6b1a77eb",
   "metadata": {},
   "source": [
    "30. Check if a list is sorted."
   ]
  },
  {
   "cell_type": "code",
   "execution_count": 22,
   "id": "1f63c33b-016e-4368-be5a-325774118816",
   "metadata": {},
   "outputs": [
    {
     "name": "stdout",
     "output_type": "stream",
     "text": [
      "The list is sorted.\n"
     ]
    }
   ],
   "source": [
    "def is_sorted(lst):\n",
    "    for i in range(len(lst) - 1):\n",
    "        if lst[i] > lst[i + 1]:\n",
    "            return False\n",
    "    return True\n",
    "\n",
    "\n",
    "my_list = [1, 2, 3, 4, 5]\n",
    "if is_sorted(my_list):\n",
    "    print(\"The list is sorted.\")\n",
    "else:\n",
    "    print(\"The list is not sorted.\")\n"
   ]
  },
  {
   "cell_type": "markdown",
   "id": "db1b6190-35a4-4c24-a504-9ec6184c8ecd",
   "metadata": {},
   "source": [
    "31. Rotate a list to the left by `n` positions."
   ]
  },
  {
   "cell_type": "code",
   "execution_count": 2,
   "id": "1e766e0b-2274-4534-9c67-a1e2d1b01811",
   "metadata": {},
   "outputs": [
    {
     "name": "stdout",
     "output_type": "stream",
     "text": [
      "[4, 5, 1, 2, 3]\n"
     ]
    }
   ],
   "source": [
    "def rotate_left(lst, n):\n",
    "    if len(lst) == 0:\n",
    "        return lst\n",
    "\n",
    "    n = n % len(lst) \n",
    "\n",
    "    return lst[n:] + lst[:n]\n",
    "\n",
    "\n",
    "original_list = [1, 2, 3, 4, 5]\n",
    "n = 3\n",
    "rotated_list = rotate_left(original_list, n)\n",
    "print(rotated_list)  \n"
   ]
  },
  {
   "cell_type": "markdown",
   "id": "39b928da-c9f2-402a-9cf8-5c094c628b0c",
   "metadata": {},
   "source": [
    "32. Rotate a list to the right by `n` positions."
   ]
  },
  {
   "cell_type": "code",
   "execution_count": 4,
   "id": "ae83aee6-66c2-4a4a-af1e-1035b384bd5a",
   "metadata": {},
   "outputs": [
    {
     "name": "stdout",
     "output_type": "stream",
     "text": [
      "[4, 5, 1, 2, 3]\n"
     ]
    }
   ],
   "source": [
    "def rotate_right(lst, n):\n",
    "    if len(lst) == 0:\n",
    "        return lst\n",
    "\n",
    "    n = n % len(lst)  \n",
    "\n",
    "    return lst[-n:] + lst[:-n]\n",
    "\n",
    "\n",
    "original_list = [1, 2, 3, 4, 5]\n",
    "n = 2\n",
    "rotated_list = rotate_right(original_list, n)\n",
    "print(rotated_list)  \n"
   ]
  },
  {
   "cell_type": "markdown",
   "id": "87ed77a8-717d-4072-88d0-db0087dc3124",
   "metadata": {},
   "source": [
    "33. Create a list of prime numbers up to 50."
   ]
  },
  {
   "cell_type": "code",
   "execution_count": 5,
   "id": "4aa9f71e-6a62-4939-bd06-a4cb811986e5",
   "metadata": {},
   "outputs": [
    {
     "name": "stdout",
     "output_type": "stream",
     "text": [
      "[2, 3, 5, 7, 11, 13, 17, 19, 23, 29, 31, 37, 41, 43, 47]\n"
     ]
    }
   ],
   "source": [
    "def is_prime(number):\n",
    "    if number <= 1:\n",
    "        return False\n",
    "    if number <= 3:\n",
    "        return True\n",
    "    if number % 2 == 0 or number % 3 == 0:\n",
    "        return False\n",
    "    i = 5\n",
    "    while i * i <= number:\n",
    "        if number % i == 0 or number % (i + 2) == 0:\n",
    "            return False\n",
    "        i += 6\n",
    "    return True\n",
    "\n",
    "primes = [2, 3, 5, 7]  # Initial prime numbers\n",
    "for num in range(11, 51):\n",
    "    if is_prime(num):\n",
    "        primes.append(num)\n",
    "\n",
    "print(primes)\n"
   ]
  },
  {
   "cell_type": "markdown",
   "id": "06660fe6-30fe-4b7f-b1ed-a2e21318417c",
   "metadata": {},
   "source": [
    "34. Split a list into chunks of size `n`.\n"
   ]
  },
  {
   "cell_type": "code",
   "execution_count": 6,
   "id": "9dbfae44-63e4-4d04-a03d-9782b55b2b36",
   "metadata": {},
   "outputs": [
    {
     "name": "stdout",
     "output_type": "stream",
     "text": [
      "[[1, 2, 3], [4, 5, 6], [7, 8, 9]]\n"
     ]
    }
   ],
   "source": [
    "def split_into_chunks(lst, n):\n",
    "    if n <= 0:\n",
    "        return [lst]  # Return the original list as a single chunk if n is less than or equal to 0\n",
    "\n",
    "    chunks = [lst[i:i + n] for i in range(0, len(lst), n)]\n",
    "    return chunks\n",
    "\n",
    "# Example usage:\n",
    "my_list = [1, 2, 3, 4, 5, 6, 7, 8, 9]\n",
    "chunk_size = 3\n",
    "result = split_into_chunks(my_list, chunk_size)\n",
    "print(result)  # Output: [[1, 2, 3], [4, 5, 6], [7, 8, 9]]\n"
   ]
  },
  {
   "cell_type": "markdown",
   "id": "605c5ab5-a99b-4eac-926f-eb1b2af3a77b",
   "metadata": {},
   "source": [
    "35. Find the second largest number in a list"
   ]
  },
  {
   "cell_type": "code",
   "execution_count": 7,
   "id": "35d4740e-dafd-457a-b000-479e3808634c",
   "metadata": {},
   "outputs": [],
   "source": [
    "list1=[3, 1, 7, 5, 7, 2, 8]"
   ]
  },
  {
   "cell_type": "code",
   "execution_count": 8,
   "id": "bc6fc9ea-5b58-4752-b272-6dc69626d403",
   "metadata": {},
   "outputs": [],
   "source": [
    "if len(list1) <=2 :\n",
    "    print(\" list has less than 2 elements\")"
   ]
  },
  {
   "cell_type": "code",
   "execution_count": 9,
   "id": "0c30df89-535e-48fd-aa06-d29028026ffd",
   "metadata": {},
   "outputs": [],
   "source": [
    "sort_number=sorted(set(list1))"
   ]
  },
  {
   "cell_type": "code",
   "execution_count": 10,
   "id": "79d596bb-625b-4998-8b60-2964ed9cf334",
   "metadata": {},
   "outputs": [],
   "source": [
    "second_largest =sort_number[-2]"
   ]
  },
  {
   "cell_type": "code",
   "execution_count": 11,
   "id": "ff0091e0-754d-4ccf-947b-9133e5e73af7",
   "metadata": {},
   "outputs": [
    {
     "data": {
      "text/plain": [
       "7"
      ]
     },
     "execution_count": 11,
     "metadata": {},
     "output_type": "execute_result"
    }
   ],
   "source": [
    "second_largest"
   ]
  },
  {
   "cell_type": "markdown",
   "id": "1b8f24ea-2c12-4822-b895-a0259b561064",
   "metadata": {},
   "source": [
    "36. Replace every element in a list with its square.\n"
   ]
  },
  {
   "cell_type": "code",
   "execution_count": 12,
   "id": "effd0ae2-f45e-4698-9b9f-70b47dca1527",
   "metadata": {},
   "outputs": [
    {
     "data": {
      "text/plain": [
       "[2, 4, 6, 8, 10]"
      ]
     },
     "execution_count": 12,
     "metadata": {},
     "output_type": "execute_result"
    }
   ],
   "source": [
    "list1=[1,2,3,4,5]\n",
    "new_list=[x*2 for x in list1]\n",
    "new_list"
   ]
  },
  {
   "cell_type": "markdown",
   "id": "0984ad81-7ef7-4fbe-b823-49629b0612ec",
   "metadata": {},
   "source": [
    "37. Convert a list to a dictionary where list elements become keys and their\n",
    "indices become values.\n"
   ]
  },
  {
   "cell_type": "code",
   "execution_count": 15,
   "id": "4993ecb3-f25a-4487-86b2-7f4e0d6aa25f",
   "metadata": {},
   "outputs": [
    {
     "data": {
      "text/plain": [
       "{'apple': 0, 'banana': 1, 'cherry': 2, 'date': 3}"
      ]
     },
     "execution_count": 15,
     "metadata": {},
     "output_type": "execute_result"
    }
   ],
   "source": [
    "list1=['apple','banana','cherry','date']\n",
    "dict1={element: index for index, element in enumerate(list1)}\n",
    "dict1"
   ]
  },
  {
   "cell_type": "markdown",
   "id": "c07cb891-3b3d-4a0d-a3ed-b01724e56f23",
   "metadata": {},
   "source": [
    "38. Shuffle the elements of a list randomly."
   ]
  },
  {
   "cell_type": "code",
   "execution_count": 18,
   "id": "6c4561b7-f420-4907-85e1-95cde2faef1c",
   "metadata": {},
   "outputs": [
    {
     "data": {
      "text/plain": [
       "[5, 4, 22, 1, 6, 3]"
      ]
     },
     "execution_count": 18,
     "metadata": {},
     "output_type": "execute_result"
    }
   ],
   "source": [
    "import random\n",
    "list1=[1,22,3,4,5,6]\n",
    "random.shuffle(list1)\n",
    "list1"
   ]
  },
  {
   "cell_type": "markdown",
   "id": "9c52b4ad-5135-4848-814c-aaac128bfcab",
   "metadata": {},
   "source": [
    "39. Create a list of the first 10 factorial numbers."
   ]
  },
  {
   "cell_type": "code",
   "execution_count": 19,
   "id": "cd7c35cf-a672-48fa-a974-a979787e3f7e",
   "metadata": {},
   "outputs": [
    {
     "name": "stdout",
     "output_type": "stream",
     "text": [
      "[1, 1, 2, 6, 24, 120, 720, 5040, 40320, 362880]\n"
     ]
    }
   ],
   "source": [
    "def factorial(n):\n",
    "    if n == 0:\n",
    "        return 1\n",
    "    else:\n",
    "        result = 1\n",
    "        for i in range(1, n + 1):\n",
    "            result *= i\n",
    "        return result\n",
    "\n",
    "factorial_numbers = [factorial(n) for n in range(10)]\n",
    "\n",
    "print(factorial_numbers)\n"
   ]
  },
  {
   "cell_type": "markdown",
   "id": "b320e8de-c95f-47e4-b58d-724e49f7206c",
   "metadata": {},
   "source": [
    "40. Check if two lists have at least one element in common.\n"
   ]
  },
  {
   "cell_type": "code",
   "execution_count": 20,
   "id": "b221c80f-3c02-4078-beca-079aaac3214f",
   "metadata": {},
   "outputs": [],
   "source": [
    "list1=[1,2,3,4,5,6,7]\n",
    "list2=[1,4,7,2,5,8,3,6,9]"
   ]
  },
  {
   "cell_type": "code",
   "execution_count": 23,
   "id": "72d0671b-29a5-49aa-9005-3432dbfcb8ec",
   "metadata": {},
   "outputs": [
    {
     "name": "stdout",
     "output_type": "stream",
     "text": [
      "list containg at least one element in common\n"
     ]
    }
   ],
   "source": [
    "for x in list1:\n",
    "    if x in list2:\n",
    "        print(\"list containg at least one element in common\")\n",
    "        break\n",
    "    else:\n",
    "        print(\"list containg differnt element\")\n",
    "        break"
   ]
  },
  {
   "cell_type": "markdown",
   "id": "4eaaba8d-44d4-4fd6-8588-bf2ab527fa5f",
   "metadata": {},
   "source": [
    "41. Remove all elements from a list.\n"
   ]
  },
  {
   "cell_type": "code",
   "execution_count": 24,
   "id": "0cb7e896-94ff-4552-b160-fc35192812a3",
   "metadata": {},
   "outputs": [],
   "source": [
    "list=[9,8,7,6,5,4,3,2,1]"
   ]
  },
  {
   "cell_type": "code",
   "execution_count": 25,
   "id": "4be9669e-3e64-4da9-85dc-a43e608bc0da",
   "metadata": {},
   "outputs": [
    {
     "data": {
      "text/plain": [
       "[]"
      ]
     },
     "execution_count": 25,
     "metadata": {},
     "output_type": "execute_result"
    }
   ],
   "source": [
    "list.clear()\n",
    "list"
   ]
  },
  {
   "cell_type": "markdown",
   "id": "0416f331-7c6c-4455-9514-ad96ba6573a9",
   "metadata": {},
   "source": [
    "42. Replace negative numbers in a list with 0."
   ]
  },
  {
   "cell_type": "code",
   "execution_count": 2,
   "id": "15e0ac8d-44b6-4029-9af8-933331776772",
   "metadata": {},
   "outputs": [],
   "source": [
    "list1=[8,-3,0,3,-5,2,-6,4,7,1,-7,1,-6]"
   ]
  },
  {
   "cell_type": "code",
   "execution_count": 5,
   "id": "78f5fe40-372a-4729-9808-b59fa23bbc51",
   "metadata": {},
   "outputs": [
    {
     "name": "stdout",
     "output_type": "stream",
     "text": [
      "Replace negative numbers in a list with 0. [8, 0, 0, 3, 0, 2, 0, 4, 7, 1, 0, 1, 0]\n"
     ]
    }
   ],
   "source": [
    "for i in range(len(list1)):\n",
    "    if list1[i]<0:\n",
    "        list1[i]=0\n",
    "print(\"Replace negative numbers in a list with 0.\",list1)\n",
    "    "
   ]
  },
  {
   "cell_type": "markdown",
   "id": "a38e3baf-5ba3-424f-88f2-d8dfead1c0a8",
   "metadata": {},
   "source": [
    "43. Convert a string into a list of words."
   ]
  },
  {
   "cell_type": "code",
   "execution_count": 8,
   "id": "bee2151b-e670-4f9b-a731-99db879ae62c",
   "metadata": {},
   "outputs": [
    {
     "data": {
      "text/plain": [
       "['my', 'name', 'is', 'vishal', 'karhad']"
      ]
     },
     "execution_count": 8,
     "metadata": {},
     "output_type": "execute_result"
    }
   ],
   "source": [
    "string=\"my name is vishal karhad\"\n",
    "word=string.split()\n",
    "word\n"
   ]
  },
  {
   "cell_type": "markdown",
   "id": "27c6d4f1-fc5e-4646-b7ce-ec57a6a5d316",
   "metadata": {},
   "source": [
    "44. Convert a list of words into a string."
   ]
  },
  {
   "cell_type": "code",
   "execution_count": 9,
   "id": "83d2a8bb-3576-4966-9507-44c6d6df0967",
   "metadata": {},
   "outputs": [
    {
     "name": "stdout",
     "output_type": "stream",
     "text": [
      "Converted string: Hello, this is a sample sentence.\n"
     ]
    }
   ],
   "source": [
    "word_list = [\"Hello,\", \"this\", \"is\", \"a\", \"sample\", \"sentence.\",]\n",
    "my_string = \" \".join(word_list)\n",
    "print(\"Converted string:\", my_string)"
   ]
  },
  {
   "cell_type": "markdown",
   "id": "13556e8c-b394-47a3-bc3a-5e4f25531961",
   "metadata": {},
   "source": [
    "45. Create a list of the first `n` powers of 2.\n"
   ]
  },
  {
   "cell_type": "code",
   "execution_count": 10,
   "id": "89b355a6-a8e9-407a-addf-126fe9361164",
   "metadata": {},
   "outputs": [
    {
     "name": "stdout",
     "output_type": "stream",
     "text": [
      "List of the first 5 powers of 2: [1, 2, 4, 8, 16]\n"
     ]
    }
   ],
   "source": [
    "n = 5\n",
    "power_list = [2 ** i for i in range(n)]\n",
    "print(\"List of the first\", n, \"powers of 2:\", power_list)"
   ]
  },
  {
   "cell_type": "markdown",
   "id": "1ba82dbf-884f-4651-84d2-acbba1508efc",
   "metadata": {},
   "source": [
    "46. Find the longest string in a list of strings."
   ]
  },
  {
   "cell_type": "code",
   "execution_count": 11,
   "id": "a04e2fae-fed9-416a-b400-8b8f35c4e94a",
   "metadata": {},
   "outputs": [
    {
     "name": "stdout",
     "output_type": "stream",
     "text": [
      "Longest string: elderberry\n"
     ]
    }
   ],
   "source": [
    "string_list = [\"apple\", \"banana\", \"cherry\", \"date\", \"elderberry\"]\n",
    "longest_string = \"\"\n",
    "for s in string_list:\n",
    "    if len(s) > len(longest_string):\n",
    "        longest_string = s\n",
    "print(\"Longest string:\", longest_string)"
   ]
  },
  {
   "cell_type": "markdown",
   "id": "147f1362-23ec-48ec-aec2-4c239a983359",
   "metadata": {},
   "source": [
    "47. Find the shortest string in a list of strings."
   ]
  },
  {
   "cell_type": "code",
   "execution_count": 12,
   "id": "6f685b08-5cdc-4771-b63d-4bb45a37d5a9",
   "metadata": {},
   "outputs": [
    {
     "name": "stdout",
     "output_type": "stream",
     "text": [
      "Shortest string: date\n"
     ]
    }
   ],
   "source": [
    "string_list = [\"apple\", \"banana\", \"cherry\", \"date\", \"elderberry\"]\n",
    "shortest_string = string_list[0]  # Initialize with the first string\n",
    "for s in string_list:\n",
    "    if len(s) < len(shortest_string):\n",
    "        shortest_string = s\n",
    "print(\"Shortest string:\", shortest_string)\n"
   ]
  },
  {
   "cell_type": "markdown",
   "id": "c6c23a77-82b4-4cd7-aa96-5500f0245ee4",
   "metadata": {},
   "source": [
    "48. Create a list of the first `n` triangular numbers.\n"
   ]
  },
  {
   "cell_type": "code",
   "execution_count": 13,
   "id": "248c4046-8087-4d26-b913-3820fb183e05",
   "metadata": {},
   "outputs": [
    {
     "name": "stdout",
     "output_type": "stream",
     "text": [
      "List of the first 5 triangular numbers: [1, 3, 6, 10, 15]\n"
     ]
    }
   ],
   "source": [
    "def triangular_numbers(n):\n",
    "    return [i * (i + 1) // 2 for i in range(1, n + 1)]\n",
    "n = 5\n",
    "triangular_list = triangular_numbers(n)\n",
    "print(\"List of the first\", n, \"triangular numbers:\", triangular_list)"
   ]
  },
  {
   "cell_type": "markdown",
   "id": "2a685803-1a74-43d5-8bbe-6acbf0f4c82b",
   "metadata": {},
   "source": [
    "49. Check if a list contains another list as a subsequence."
   ]
  },
  {
   "cell_type": "code",
   "execution_count": 14,
   "id": "0e55c848-574c-4a0d-809e-613e3b6b73ca",
   "metadata": {},
   "outputs": [
    {
     "name": "stdout",
     "output_type": "stream",
     "text": [
      "Main list contains the subsequence.\n"
     ]
    }
   ],
   "source": [
    "def is_subsequence(subsequence, main_list):\n",
    "    subseq_index = 0  # Index for the subsequence elements\n",
    "    for element in main_list:\n",
    "        if element == subsequence[subseq_index]:\n",
    "            subseq_index += 1\n",
    "            if subseq_index == len(subsequence):\n",
    "                return True\n",
    "    return False\n",
    "\n",
    "# Example main list and subsequence\n",
    "main_list = [1, 2, 3, 4, 5, 6, 7, 8, 9, 10]\n",
    "subsequence = [3, 5, 8]\n",
    "\n",
    "# Check if the main list contains the subsequence\n",
    "if is_subsequence(subsequence, main_list):\n",
    "    print(\"Main list contains the subsequence.\")\n",
    "else:\n",
    "    print(\"Main list does not contain the subsequence.\")"
   ]
  },
  {
   "cell_type": "markdown",
   "id": "3837b5c5-fb6b-473d-b3ea-9aa9cc34171c",
   "metadata": {},
   "source": [
    "50. Swap two elements in a list by their indices."
   ]
  },
  {
   "cell_type": "code",
   "execution_count": 15,
   "id": "a70eb6f9-5327-41bf-98f7-2bde7114ec52",
   "metadata": {},
   "outputs": [
    {
     "name": "stdout",
     "output_type": "stream",
     "text": [
      "List after swapping elements: [1, 4, 3, 2, 5]\n"
     ]
    }
   ],
   "source": [
    "my_list = [1, 2, 3, 4, 5]\n",
    "index1 = 1\n",
    "index2 = 3\n",
    "temp = my_list[index1]\n",
    "my_list[index1] = my_list[index2]\n",
    "my_list[index2] = temp\n",
    "print(\"List after swapping elements:\", my_list)"
   ]
  },
  {
   "cell_type": "markdown",
   "id": "f3e6bd25-8157-4762-b21c-4d8140adb831",
   "metadata": {},
   "source": [
    "Tuple Based Practice Problem :"
   ]
  },
  {
   "cell_type": "markdown",
   "id": "02265cf3-e626-445f-bb93-278893179d09",
   "metadata": {},
   "source": [
    "1. Create a tuple with integers from 1 to 5"
   ]
  },
  {
   "cell_type": "code",
   "execution_count": 1,
   "id": "a4c6d416-eb51-4754-9bd8-fdd42abb89d0",
   "metadata": {},
   "outputs": [
    {
     "name": "stdout",
     "output_type": "stream",
     "text": [
      "(1, 2, 3, 4, 5)\n"
     ]
    }
   ],
   "source": [
    "my_tuple =(1,2,3,4,5)\n",
    "print(my_tuple)"
   ]
  },
  {
   "cell_type": "markdown",
   "id": "656d7656-9187-4c24-b789-cc262a9290a2",
   "metadata": {},
   "source": [
    "2. Access the third element of a tuple."
   ]
  },
  {
   "cell_type": "code",
   "execution_count": 2,
   "id": "d82dd322-f956-484b-b973-d9199287fbaf",
   "metadata": {},
   "outputs": [
    {
     "data": {
      "text/plain": [
       "3"
      ]
     },
     "execution_count": 2,
     "metadata": {},
     "output_type": "execute_result"
    }
   ],
   "source": [
    "my_tuple =(1,2,3,4,5)\n",
    "my_tuple[2]"
   ]
  },
  {
   "cell_type": "markdown",
   "id": "0027e644-ff02-4d04-b17b-9479ae882b3f",
   "metadata": {},
   "source": [
    "3. Find the length of a tuple without using the `len()` function.\n"
   ]
  },
  {
   "cell_type": "code",
   "execution_count": 4,
   "id": "133be084-1cd5-4f0e-a3a3-ddc429931083",
   "metadata": {},
   "outputs": [
    {
     "name": "stdout",
     "output_type": "stream",
     "text": [
      "5\n"
     ]
    }
   ],
   "source": [
    "my_tuple =(1,2,3,4,5)\n",
    "count=0\n",
    "for x in my_tuple:\n",
    "    count+=1\n",
    "print(count)"
   ]
  },
  {
   "cell_type": "markdown",
   "id": "dfd10037-22b5-48a6-974d-d3ee69932487",
   "metadata": {},
   "source": [
    "4. Count the occurrences of an element in a tuple"
   ]
  },
  {
   "cell_type": "code",
   "execution_count": 3,
   "id": "ea0695a3-c901-4753-a6aa-db320e999f81",
   "metadata": {},
   "outputs": [
    {
     "name": "stdout",
     "output_type": "stream",
     "text": [
      "3 is present 3 time\n"
     ]
    }
   ],
   "source": [
    "my_tuple =(1,2,3,4,5,3,5,3)\n",
    "count=0\n",
    "element_to_count=3\n",
    "for x in my_tuple:\n",
    "    if x == element_to_count :\n",
    "         count+=1\n",
    "print(f\"{element_to_count} is present {count} time\")\n",
    "   "
   ]
  },
  {
   "cell_type": "markdown",
   "id": "48731e25-82e3-4a7f-9586-ded58c8a23ac",
   "metadata": {},
   "source": [
    "5. Find the index of the first occurrence of an element in a tuple"
   ]
  },
  {
   "cell_type": "code",
   "execution_count": 5,
   "id": "27d7e9ca-e954-48c9-a7de-ef4b741f2ef2",
   "metadata": {},
   "outputs": [
    {
     "name": "stdout",
     "output_type": "stream",
     "text": [
      "The first occurrence of 30 is at index 2\n"
     ]
    }
   ],
   "source": [
    "my_tuple = (10, 20, 30, 40, 50, 20)  \n",
    "element_to_find = 30\n",
    "index = my_tuple.index(element_to_find)\n",
    "\n",
    "print(f\"The first occurrence of {element_to_find} is at index {index}\")\n"
   ]
  },
  {
   "cell_type": "markdown",
   "id": "8b37df3f-5ee2-478b-a5c0-26de2837d9b9",
   "metadata": {},
   "source": [
    "6. Check if an element exists in a tuple."
   ]
  },
  {
   "cell_type": "code",
   "execution_count": 10,
   "id": "9b59e672-e592-4824-a336-e35e236e9ab0",
   "metadata": {},
   "outputs": [
    {
     "name": "stdin",
     "output_type": "stream",
     "text": [
      "Enter any value to check 8\n"
     ]
    },
    {
     "name": "stdout",
     "output_type": "stream",
     "text": [
      "element does not exists in tuple\n"
     ]
    }
   ],
   "source": [
    "my_tuple =(1,2,3,4,5)\n",
    "check_element=int(input(\"Enter any value to check\"))\n",
    "if check_element in my_tuple:\n",
    "    print(\"element exists in tuple\")\n",
    "else:\n",
    "    print(\"element does not exists in tuple\")"
   ]
  },
  {
   "cell_type": "markdown",
   "id": "00ea4038-3957-46f3-b57f-16a4d0323bb2",
   "metadata": {},
   "source": [
    "7. Convert a tuple to a list"
   ]
  },
  {
   "cell_type": "code",
   "execution_count": 12,
   "id": "6ed02a4f-e8f0-49f1-a26c-ff62447f5eaf",
   "metadata": {},
   "outputs": [
    {
     "name": "stdout",
     "output_type": "stream",
     "text": [
      "[1, 2, 3, 4, 5]\n"
     ]
    }
   ],
   "source": [
    "my_tuple =(1,2,3,4,5)\n",
    "list1=list(my_tuple)\n",
    "print(list1)"
   ]
  },
  {
   "cell_type": "markdown",
   "id": "fa7a98fa-f6ca-45d3-8c06-5ffb4df8b28a",
   "metadata": {},
   "source": [
    "8. Convert a list to a tuple."
   ]
  },
  {
   "cell_type": "code",
   "execution_count": 13,
   "id": "161bc71b-083e-4473-b5e5-e30651e0ac1e",
   "metadata": {},
   "outputs": [
    {
     "data": {
      "text/plain": [
       "(1, 2, 3, 4, 5, 6)"
      ]
     },
     "execution_count": 13,
     "metadata": {},
     "output_type": "execute_result"
    }
   ],
   "source": [
    "my_list=[1,2,3,4,5,6]\n",
    "tuple1=tuple(my_list)\n",
    "tuple1"
   ]
  },
  {
   "cell_type": "markdown",
   "id": "36612a8c-8193-487b-bb43-89c8ab49df46",
   "metadata": {},
   "source": [
    "9. Unpack the elements of a tuple into variables."
   ]
  },
  {
   "cell_type": "code",
   "execution_count": 14,
   "id": "1f7bd82f-de12-40ca-87f5-7e9b4b9c0406",
   "metadata": {},
   "outputs": [
    {
     "name": "stdout",
     "output_type": "stream",
     "text": [
      "first_variable : 4\n",
      "second_variable : 5\n",
      "third_variable : 9\n"
     ]
    }
   ],
   "source": [
    "my_tuple=(4,5,9)\n",
    "a,b,c=my_tuple\n",
    "print(\"first_variable :\",a)\n",
    "print(\"second_variable :\",b)\n",
    "print(\"third_variable :\",c)"
   ]
  },
  {
   "cell_type": "markdown",
   "id": "dc1a664c-cd29-4eee-ad56-e2472769727a",
   "metadata": {},
   "source": [
    "10. Create a tuple of even numbers from 1 to 10"
   ]
  },
  {
   "cell_type": "code",
   "execution_count": 16,
   "id": "767ce2ef-79b6-408f-a546-5115dcd391f9",
   "metadata": {},
   "outputs": [
    {
     "data": {
      "text/plain": [
       "(2, 4, 6, 8)"
      ]
     },
     "execution_count": 16,
     "metadata": {},
     "output_type": "execute_result"
    }
   ],
   "source": [
    "list1=[x for x in range(2,10,2)]\n",
    "my_tuple=tuple(list1)\n",
    "my_tuple"
   ]
  },
  {
   "cell_type": "markdown",
   "id": "fc52f40f-d422-440c-9258-6f5c5df50470",
   "metadata": {},
   "source": [
    "11. Create a tuple of odd numbers from 1 to 10."
   ]
  },
  {
   "cell_type": "code",
   "execution_count": 17,
   "id": "757aff96-41e9-4f42-86df-692fe6c72a7f",
   "metadata": {},
   "outputs": [
    {
     "data": {
      "text/plain": [
       "(1, 3, 5, 7, 9)"
      ]
     },
     "execution_count": 17,
     "metadata": {},
     "output_type": "execute_result"
    }
   ],
   "source": [
    "list1=[x for x in range(1,10,2)]\n",
    "my_tuple=tuple(list1)\n",
    "my_tuple"
   ]
  },
  {
   "cell_type": "markdown",
   "id": "21109127-478b-4feb-8782-2da503716cb9",
   "metadata": {},
   "source": [
    "12. Concatenate two tuples"
   ]
  },
  {
   "cell_type": "code",
   "execution_count": 19,
   "id": "e068afbc-cd0e-4351-8b03-ee4a42e23aa8",
   "metadata": {},
   "outputs": [
    {
     "name": "stdout",
     "output_type": "stream",
     "text": [
      "(1, 2, 3, 4, 5, 6)\n"
     ]
    }
   ],
   "source": [
    "tuple1=(1,2,3)\n",
    "tuple2=(4,5,6)\n",
    "join_tuple=tuple1+tuple2\n",
    "print(join_tuple)"
   ]
  },
  {
   "cell_type": "markdown",
   "id": "26600419-f75a-481d-9cc7-213889eb2660",
   "metadata": {},
   "source": [
    "13. Repeat a tuple three times"
   ]
  },
  {
   "cell_type": "code",
   "execution_count": 20,
   "id": "b1921c04-2f1f-479a-bbbe-e0bf0f051f90",
   "metadata": {},
   "outputs": [
    {
     "data": {
      "text/plain": [
       "(1, 2, 3, 4, 5, 1, 2, 3, 4, 5, 1, 2, 3, 4, 5)"
      ]
     },
     "execution_count": 20,
     "metadata": {},
     "output_type": "execute_result"
    }
   ],
   "source": [
    "my_tuple =(1,2,3,4,5)\n",
    "new_tuple=3*my_tuple\n",
    "new_tuple"
   ]
  },
  {
   "cell_type": "markdown",
   "id": "52ab9982-ecc8-4470-9ee8-5c20ce286a46",
   "metadata": {},
   "source": [
    "14. Check if a tuple is empty.\n"
   ]
  },
  {
   "cell_type": "code",
   "execution_count": 25,
   "id": "0e3f0fac-5bcd-4706-8b78-2cbc2e5097a3",
   "metadata": {},
   "outputs": [
    {
     "name": "stdout",
     "output_type": "stream",
     "text": [
      "(1, 5, 4, 6)  is not empty\n"
     ]
    }
   ],
   "source": [
    "my_tuple=(1,5,4,6)\n",
    "if not my_tuple:\n",
    "    print(my_tuple,\" is  empty\")\n",
    "else:\n",
    "    print(my_tuple,\" is not empty\")"
   ]
  },
  {
   "cell_type": "markdown",
   "id": "42fb3114-90c5-4241-b645-27f95e476221",
   "metadata": {},
   "source": [
    "15. Create a nested tuple.\n"
   ]
  },
  {
   "cell_type": "code",
   "execution_count": 26,
   "id": "67a9117b-d33a-4d0d-a328-06c61e25e60b",
   "metadata": {},
   "outputs": [
    {
     "name": "stdout",
     "output_type": "stream",
     "text": [
      "((1, 2, 3), ('a', 'b', 'c'), (True, False))\n"
     ]
    }
   ],
   "source": [
    "nested_tuple=((1,2,3),('a','b','c'),(True,False))\n",
    "print(nested_tuple)"
   ]
  },
  {
   "cell_type": "markdown",
   "id": "e2cf9f4c-c786-4b67-9d8d-e8077aede35e",
   "metadata": {},
   "source": [
    "16. Access the first element of a nested tuple."
   ]
  },
  {
   "cell_type": "code",
   "execution_count": 29,
   "id": "300406f2-0a2a-4f23-a8c2-4ed33e8f4169",
   "metadata": {},
   "outputs": [
    {
     "name": "stdout",
     "output_type": "stream",
     "text": [
      "first element of nested element id : (1, 2, 3)\n"
     ]
    }
   ],
   "source": [
    "nested_tuple=((1,2,3),('a','b','c'),(True,False))\n",
    "first_element=nested_tuple[0]\n",
    "print(\"first element of nested element id :\",first_element)"
   ]
  },
  {
   "cell_type": "markdown",
   "id": "fbf2aed1-258c-446c-9701-5d549acad4de",
   "metadata": {},
   "source": [
    "17. Create a tuple with a single element."
   ]
  },
  {
   "cell_type": "code",
   "execution_count": 33,
   "id": "1122ab01-5c42-43f0-a4c9-6f2f1ec6d50c",
   "metadata": {},
   "outputs": [
    {
     "name": "stdout",
     "output_type": "stream",
     "text": [
      "<class 'tuple'>\n",
      "tuple containing single element (1,)\n"
     ]
    }
   ],
   "source": [
    "my_tuple=(1,)\n",
    "print(type(my_tuple))\n",
    "print(\"tuple containing single element\",my_tuple)"
   ]
  },
  {
   "cell_type": "markdown",
   "id": "8dd7d7a7-a829-4486-9561-bfb85a7cd198",
   "metadata": {},
   "source": [
    "18. Compare two tuples."
   ]
  },
  {
   "cell_type": "code",
   "execution_count": 35,
   "id": "256c85c6-d98c-4473-a7bf-e174224859ec",
   "metadata": {},
   "outputs": [],
   "source": [
    "tuple1 = (1, 2, 3)\n",
    "tuple2 = (1, 2, 4)"
   ]
  },
  {
   "cell_type": "code",
   "execution_count": 36,
   "id": "8526989d-0126-4c7c-b5c2-8fb55b68508c",
   "metadata": {},
   "outputs": [
    {
     "name": "stdout",
     "output_type": "stream",
     "text": [
      "tuple1 == tuple2: False\n",
      "tuple1 != tuple2: True\n",
      "tuple1 < tuple2: True\n",
      "tuple1 <= tuple2: True\n",
      "tuple1 > tuple2: False\n",
      "tuple1 >= tuple2: False\n"
     ]
    }
   ],
   "source": [
    "print(\"tuple1 == tuple2:\", tuple1 == tuple2) \n",
    "print(\"tuple1 != tuple2:\", tuple1 != tuple2) \n",
    "print(\"tuple1 < tuple2:\", tuple1 < tuple2)    \n",
    "print(\"tuple1 <= tuple2:\", tuple1 <= tuple2)  \n",
    "print(\"tuple1 > tuple2:\", tuple1 > tuple2)   \n",
    "print(\"tuple1 >= tuple2:\", tuple1 >= tuple2) "
   ]
  },
  {
   "cell_type": "markdown",
   "id": "a46a578f-73b3-40e6-bec3-e7682d9b1340",
   "metadata": {},
   "source": [
    "19. Delete a tuple.\n"
   ]
  },
  {
   "cell_type": "code",
   "execution_count": 43,
   "id": "2cf9692a-8e4d-42b4-91a3-02d5c269b55c",
   "metadata": {},
   "outputs": [],
   "source": [
    "my_tuple=(1,5,4,6)\n",
    "del my_tuple \n"
   ]
  },
  {
   "cell_type": "markdown",
   "id": "9ea2aabf-2570-4040-bc6d-4523125a6fdf",
   "metadata": {},
   "source": [
    "20. Slice a tuple"
   ]
  },
  {
   "cell_type": "code",
   "execution_count": 44,
   "id": "ee58812d-9b28-4b8d-8ff6-9da527137ee8",
   "metadata": {},
   "outputs": [
    {
     "name": "stdout",
     "output_type": "stream",
     "text": [
      "Sliced tuple: (3, 4, 5, 6)\n"
     ]
    }
   ],
   "source": [
    "my_tuple = (1, 2, 3, 4, 5, 6, 7, 8, 9, 10)\n",
    "sliced_tuple = my_tuple[2:6]\n",
    "print(\"Sliced tuple:\", sliced_tuple)"
   ]
  },
  {
   "cell_type": "markdown",
   "id": "6b1eb514-33eb-485a-8e77-c759b8e51c32",
   "metadata": {},
   "source": [
    "21. Find the maximum value in a tuple."
   ]
  },
  {
   "cell_type": "code",
   "execution_count": 45,
   "id": "4203a0a7-7f1d-4c53-8a42-08516c07c07d",
   "metadata": {},
   "outputs": [
    {
     "name": "stdout",
     "output_type": "stream",
     "text": [
      "Maximum value: 45\n"
     ]
    }
   ],
   "source": [
    "my_tuple = (10, 20, 5, 45, 30)\n",
    "max_value = max(my_tuple)\n",
    "print(\"Maximum value:\", max_value)"
   ]
  },
  {
   "cell_type": "markdown",
   "id": "a81185ba-3a19-49f9-b326-058fc4b8fcc6",
   "metadata": {},
   "source": [
    "22. Find the minimum value in a tuple.\n"
   ]
  },
  {
   "cell_type": "code",
   "execution_count": 46,
   "id": "57e5e692-187b-4119-bd1f-76155915da19",
   "metadata": {},
   "outputs": [
    {
     "name": "stdout",
     "output_type": "stream",
     "text": [
      "Maximum value: 5\n"
     ]
    }
   ],
   "source": [
    "my_tuple = (10, 20, 5, 45, 30)\n",
    "min_value = min(my_tuple)\n",
    "print(\"Maximum value:\", min_value)"
   ]
  },
  {
   "cell_type": "markdown",
   "id": "6bca5ac1-9a2d-41c0-a021-8638677db5ee",
   "metadata": {},
   "source": [
    "23. Convert a string to a tuple of characters."
   ]
  },
  {
   "cell_type": "code",
   "execution_count": 47,
   "id": "4599fc14-ceba-41d9-8737-4da02aa5696d",
   "metadata": {},
   "outputs": [
    {
     "name": "stdout",
     "output_type": "stream",
     "text": [
      "Tuple of characters: ('H', 'e', 'l', 'l', 'o', ',', ' ', 'W', 'o', 'r', 'l', 'd', '!')\n"
     ]
    }
   ],
   "source": [
    "my_string = \"Hello, World!\"\n",
    "tuple_of_characters = tuple(my_string)\n",
    "print(\"Tuple of characters:\", tuple_of_characters)"
   ]
  },
  {
   "cell_type": "markdown",
   "id": "49c253a6-a972-4699-b59f-1f162c02c374",
   "metadata": {},
   "source": [
    "24. Convert a tuple of characters to a string"
   ]
  },
  {
   "cell_type": "code",
   "execution_count": 48,
   "id": "bf97fd03-b72b-4691-b4a9-5f5c5a1c5432",
   "metadata": {},
   "outputs": [
    {
     "name": "stdout",
     "output_type": "stream",
     "text": [
      "String from tuple: Hello World!\n"
     ]
    }
   ],
   "source": [
    "tuple_of_characters = ('H', 'e', 'l', 'l', 'o', ' ', 'W', 'o', 'r', 'l', 'd', '!')\n",
    "string_from_tuple = ''.join(tuple_of_characters)\n",
    "print(\"String from tuple:\", string_from_tuple)"
   ]
  },
  {
   "cell_type": "markdown",
   "id": "4fccf0e8-3ec3-47e4-a0b3-a88f291fbab9",
   "metadata": {},
   "source": [
    "25. Create a tuple from multiple data types."
   ]
  },
  {
   "cell_type": "code",
   "execution_count": 49,
   "id": "0e61fff7-ab86-433a-90fa-2166ad0e1335",
   "metadata": {},
   "outputs": [
    {
     "name": "stdout",
     "output_type": "stream",
     "text": [
      "(1, 'hello', 3.14, True)\n"
     ]
    }
   ],
   "source": [
    "mixed_tuple = (1, \"hello\", 3.14, True)\n",
    "print(mixed_tuple)"
   ]
  },
  {
   "cell_type": "markdown",
   "id": "9e1c3454-7bb8-4a71-9dd1-a3c3ae2ced8b",
   "metadata": {},
   "source": [
    "26. Check if two tuples are identical.\n"
   ]
  },
  {
   "cell_type": "code",
   "execution_count": 50,
   "id": "0f991b27-b8f5-4787-96da-8384b0c7adf4",
   "metadata": {},
   "outputs": [
    {
     "name": "stdout",
     "output_type": "stream",
     "text": [
      "not identical\n"
     ]
    }
   ],
   "source": [
    "tuple1 = (1, \"hello\", 3.14, True)\n",
    "tuple2 = (10, 20, 5, 45, 30)\n",
    "if tuple1==tuple2:\n",
    "    print(\"two tuples are identical.\")\n",
    "else:\n",
    "    print(\"not identical\")"
   ]
  },
  {
   "cell_type": "markdown",
   "id": "f1293fb3-40dc-4381-9706-1456639de193",
   "metadata": {},
   "source": [
    "27. Sort the elements of a tuple."
   ]
  },
  {
   "cell_type": "code",
   "execution_count": 53,
   "id": "d3e2fa35-3c14-47e2-aeb0-a516c09f0509",
   "metadata": {},
   "outputs": [
    {
     "name": "stdout",
     "output_type": "stream",
     "text": [
      "(4, 5, 6, 8, 10, 18, 19, 20, 45)\n"
     ]
    }
   ],
   "source": [
    "tuple1 = (10, 20, 5, 45,4,8,6,18,19)\n",
    "print(tuple(sorted(tuple1)))\n"
   ]
  },
  {
   "cell_type": "markdown",
   "id": "7d43b7fc-f110-4809-b0bd-058d060546e2",
   "metadata": {},
   "source": [
    "28. Convert a tuple of integers to a tuple of strings.\n"
   ]
  },
  {
   "cell_type": "code",
   "execution_count": 54,
   "id": "016c1dd3-964f-4967-aeb1-8191e8e8765b",
   "metadata": {},
   "outputs": [
    {
     "name": "stdout",
     "output_type": "stream",
     "text": [
      "Tuple of strings: ('1', '2', '3', '4', '5')\n"
     ]
    }
   ],
   "source": [
    "tuple_of_integers = (1, 2, 3, 4, 5)\n",
    "tuple_of_strings = tuple(str(item) for item in tuple_of_integers)\n",
    "print(\"Tuple of strings:\", tuple_of_strings)"
   ]
  },
  {
   "cell_type": "markdown",
   "id": "20a6f26c-4617-4c14-9a92-48069a9a1810",
   "metadata": {},
   "source": [
    "29. Convert a tuple of strings to a tuple of integers.\n"
   ]
  },
  {
   "cell_type": "code",
   "execution_count": 56,
   "id": "b3197b99-2dcc-4be5-afd1-7c12a7a1e610",
   "metadata": {},
   "outputs": [
    {
     "name": "stdout",
     "output_type": "stream",
     "text": [
      "Tuple of integer: (1, 2, 3, 4, 5)\n"
     ]
    }
   ],
   "source": [
    "Tuple_of_strings: ('1', '2', '3', '4', '5')\n",
    "tuple_of_integer = tuple(int(item) for item in tuple_of_strings)\n",
    "print(\"Tuple of integer:\", tuple_of_integer)"
   ]
  },
  {
   "cell_type": "markdown",
   "id": "0b3ed864-7485-420d-95b2-2fe39ef94c25",
   "metadata": {},
   "source": [
    "30. Merge two tuples.\n"
   ]
  },
  {
   "cell_type": "code",
   "execution_count": 57,
   "id": "4b2e62ee-269d-40f8-b657-e2bbb49e78e1",
   "metadata": {},
   "outputs": [
    {
     "name": "stdout",
     "output_type": "stream",
     "text": [
      "Merged tuple: (1, 2, 3, 4, 5, 6)\n"
     ]
    }
   ],
   "source": [
    "tuple1 = (1, 2, 3)\n",
    "tuple2 = (4, 5, 6)\n",
    "merged_tuple = tuple1 + tuple2\n",
    "print(\"Merged tuple:\", merged_tuple)"
   ]
  },
  {
   "cell_type": "markdown",
   "id": "33063244-c50e-44ca-a097-d86b9b2123a0",
   "metadata": {},
   "source": [
    "31. Flatten a nested tuple."
   ]
  },
  {
   "cell_type": "code",
   "execution_count": 1,
   "id": "b1ce3b20-1061-4907-8042-41895697dae0",
   "metadata": {},
   "outputs": [
    {
     "name": "stdout",
     "output_type": "stream",
     "text": [
      "(1, 2, 3, 4, 5, 6, 7)\n"
     ]
    }
   ],
   "source": [
    "def flatten_tuple(nested_tuple):\n",
    "    flat_list = []\n",
    "    for item in nested_tuple:\n",
    "        if isinstance(item, tuple):\n",
    "            flat_list.extend(flatten_tuple(item))\n",
    "        else:\n",
    "            flat_list.append(item)\n",
    "    return tuple(flat_list)\n",
    "\n",
    "nested_tuple = ((1, 2), (3, (4, 5)), 6, (7,))\n",
    "\n",
    "\n",
    "flattened_tuple = flatten_tuple(nested_tuple)\n",
    "\n",
    "print(flattened_tuple)\n"
   ]
  },
  {
   "cell_type": "markdown",
   "id": "0b96adc9-8b5b-4496-9929-71cb160a0ccd",
   "metadata": {},
   "source": [
    "32. Create a tuple of the first 5 prime numbers."
   ]
  },
  {
   "cell_type": "code",
   "execution_count": 2,
   "id": "f26eed69-0434-4f64-a99f-02a009dec859",
   "metadata": {},
   "outputs": [
    {
     "name": "stdout",
     "output_type": "stream",
     "text": [
      "Tuple of the first 5 prime numbers: (2, 3, 5, 7, 11)\n"
     ]
    }
   ],
   "source": [
    "def is_prime(num):\n",
    "    if num <= 1:\n",
    "        return False\n",
    "    for i in range(2, int(num ** 0.5) + 1):\n",
    "        if num % i == 0:\n",
    "            return False\n",
    "    return True\n",
    "\n",
    "# Generate the first 5 prime numbers\n",
    "prime_numbers_list = [num for num in range(2, 100) if is_prime(num)][:5]\n",
    "\n",
    "# Convert the list to a tuple\n",
    "prime_numbers_tuple = tuple(prime_numbers_list)\n",
    "\n",
    "# Print the tuple of prime numbers\n",
    "print(\"Tuple of the first 5 prime numbers:\", prime_numbers_tuple)"
   ]
  },
  {
   "cell_type": "markdown",
   "id": "55b4ff44-a8ba-46d3-914d-9b262c590d8b",
   "metadata": {},
   "source": [
    "33. Check if a tuple is a palindrome."
   ]
  },
  {
   "cell_type": "code",
   "execution_count": 3,
   "id": "9043c45f-cf57-4624-a575-24f2ef1f79ea",
   "metadata": {},
   "outputs": [
    {
     "name": "stdout",
     "output_type": "stream",
     "text": [
      "Is the first tuple a palindrome? True\n",
      "Is the second tuple a palindrome? False\n"
     ]
    }
   ],
   "source": [
    "def is_palindrome_tuple(input_tuple):\n",
    "    return input_tuple == input_tuple[::-1]\n",
    "\n",
    "# Example tuples\n",
    "palindrome_tuple = (1, 2, 3, 2, 1)\n",
    "non_palindrome_tuple = (1, 2, 3, 4, 5)\n",
    "\n",
    "# Check if the tuples are palindromes\n",
    "is_palindrome1 = is_palindrome_tuple(palindrome_tuple)\n",
    "is_palindrome2 = is_palindrome_tuple(non_palindrome_tuple)\n",
    "\n",
    "print(\"Is the first tuple a palindrome?\", is_palindrome1)\n",
    "print(\"Is the second tuple a palindrome?\", is_palindrome2)\n"
   ]
  },
  {
   "cell_type": "markdown",
   "id": "30bf2f4f-4c7a-413b-a4f0-45c51b5bab2b",
   "metadata": {},
   "source": [
    "34. Create a tuple of squares of numbers from 1 to 5."
   ]
  },
  {
   "cell_type": "code",
   "execution_count": 4,
   "id": "2df01b70-e779-4758-bfcb-0c60cdc2a45a",
   "metadata": {},
   "outputs": [
    {
     "data": {
      "text/plain": [
       "(1, 4, 9, 16, 25)"
      ]
     },
     "execution_count": 4,
     "metadata": {},
     "output_type": "execute_result"
    }
   ],
   "source": [
    "squares_tuple = tuple(x**2 for x in range(1, 6))\n",
    "squares_tuple"
   ]
  },
  {
   "cell_type": "markdown",
   "id": "209c038c-1d2d-4bc4-a52a-5fc3b1739d76",
   "metadata": {},
   "source": [
    "35. Filter out all even numbers from a tuple."
   ]
  },
  {
   "cell_type": "code",
   "execution_count": 5,
   "id": "7a96b451-328a-41d3-87a8-fc1cbf548f65",
   "metadata": {},
   "outputs": [
    {
     "name": "stdout",
     "output_type": "stream",
     "text": [
      "(1, 3, 5, 7, 9)\n"
     ]
    }
   ],
   "source": [
    "original_tuple = (1, 2, 3, 4, 5, 6, 7, 8, 9)\n",
    "filtered_tuple = tuple(x for x in original_tuple if x % 2 != 0)\n",
    "print(filtered_tuple)\n"
   ]
  },
  {
   "cell_type": "markdown",
   "id": "0ea6dd6c-1e1b-464d-939d-be6636cbfc45",
   "metadata": {},
   "source": [
    "36. Multiply all elements in a tuple by 2."
   ]
  },
  {
   "cell_type": "code",
   "execution_count": 6,
   "id": "3cdc7de1-c2ba-45fa-af24-3f747500f2ac",
   "metadata": {},
   "outputs": [
    {
     "name": "stdout",
     "output_type": "stream",
     "text": [
      "(2, 4, 6, 8, 10)\n"
     ]
    }
   ],
   "source": [
    "original_tuple = (1, 2, 3, 4, 5)\n",
    "doubled_tuple = tuple(x * 2 for x in original_tuple)\n",
    "print(doubled_tuple)\n"
   ]
  },
  {
   "cell_type": "markdown",
   "id": "0d004ebe-1a2d-407c-b192-0c2f826c7b35",
   "metadata": {},
   "source": [
    "37. Create a tuple of random numbers"
   ]
  },
  {
   "cell_type": "code",
   "execution_count": 7,
   "id": "a9f5ebd4-c6fe-46d2-b8e5-bc03fbdfa7b9",
   "metadata": {},
   "outputs": [
    {
     "name": "stdout",
     "output_type": "stream",
     "text": [
      "(42, 29, 62, 9, 76)\n"
     ]
    }
   ],
   "source": [
    "import random\n",
    "random_tuple = tuple(random.randint(1, 100) for _ in range(5))\n",
    "print(random_tuple)"
   ]
  },
  {
   "cell_type": "markdown",
   "id": "3c51b085-29e5-43fb-870f-6f0ccbc5fd0c",
   "metadata": {},
   "source": [
    "38. Check if a tuple is sorted."
   ]
  },
  {
   "cell_type": "code",
   "execution_count": 8,
   "id": "7753674c-2071-4e40-b98b-184c30510a38",
   "metadata": {},
   "outputs": [
    {
     "name": "stdout",
     "output_type": "stream",
     "text": [
      "Is the first tuple sorted? True\n",
      "Is the second tuple sorted? False\n"
     ]
    }
   ],
   "source": [
    "def is_sorted_tuple(input_tuple):\n",
    "    for i in range(1, len(input_tuple)):\n",
    "        if input_tuple[i] < input_tuple[i - 1]:\n",
    "            return False\n",
    "    return True\n",
    "\n",
    "# Example tuples\n",
    "sorted_tuple = (1, 2, 3, 4, 5)\n",
    "unsorted_tuple = (5, 3, 1, 2, 4)\n",
    "\n",
    "# Check if the tuples are sorted\n",
    "is_sorted1 = is_sorted_tuple(sorted_tuple)\n",
    "is_sorted2 = is_sorted_tuple(unsorted_tuple)\n",
    "\n",
    "print(\"Is the first tuple sorted?\", is_sorted1)\n",
    "print(\"Is the second tuple sorted?\", is_sorted2)\n"
   ]
  },
  {
   "cell_type": "markdown",
   "id": "9f258399-9e45-4636-b707-11696acfb122",
   "metadata": {},
   "source": [
    "39. Rotate a tuple to the left by `n` positions.\n"
   ]
  },
  {
   "cell_type": "code",
   "execution_count": 9,
   "id": "a37adaf4-f043-44d4-94e6-f383e45655be",
   "metadata": {},
   "outputs": [
    {
     "name": "stdout",
     "output_type": "stream",
     "text": [
      "(3, 4, 5, 1, 2)\n"
     ]
    }
   ],
   "source": [
    "def rotate_tuple_left(input_tuple, n):\n",
    "    n = n % len(input_tuple)  # Ensure n is within the range of the tuple length\n",
    "    rotated_tuple = input_tuple[n:] + input_tuple[:n]\n",
    "    return rotated_tuple\n",
    "\n",
    "# Example tuple\n",
    "my_tuple = (1, 2, 3, 4, 5)\n",
    "\n",
    "# Rotate the tuple to the left by 2 positions\n",
    "rotated = rotate_tuple_left(my_tuple, 2)\n",
    "\n",
    "print(rotated)\n"
   ]
  },
  {
   "cell_type": "markdown",
   "id": "9d085269-02ab-4f3d-a230-218dd6ca785a",
   "metadata": {},
   "source": [
    "40. Rotate a tuple to the right by `n` positions.\n"
   ]
  },
  {
   "cell_type": "code",
   "execution_count": 10,
   "id": "8a9398bd-4d4b-4d3e-a3b7-c4f350dee5e8",
   "metadata": {},
   "outputs": [
    {
     "name": "stdout",
     "output_type": "stream",
     "text": [
      "(4, 5, 1, 2, 3)\n"
     ]
    }
   ],
   "source": [
    "def rotate_tuple_right(input_tuple, n):\n",
    "    n = n % len(input_tuple)  \n",
    "    rotated_tuple = input_tuple[-n:] + input_tuple[:-n]\n",
    "    return rotated_tuple\n",
    "my_tuple = (1, 2, 3, 4, 5)\n",
    "rotated = rotate_tuple_right(my_tuple, 2)\n",
    "print(rotated)\n"
   ]
  },
  {
   "cell_type": "markdown",
   "id": "be3dc01c-5603-4ce5-af72-665682c23b65",
   "metadata": {},
   "source": [
    "41. Create a tuple of the first 5 Fibonacci numbers."
   ]
  },
  {
   "cell_type": "code",
   "execution_count": 11,
   "id": "6925c65d-c6c0-46a3-bb96-a3d1edea8431",
   "metadata": {},
   "outputs": [
    {
     "name": "stdout",
     "output_type": "stream",
     "text": [
      "(0, 1, 1, 2, 3)\n"
     ]
    }
   ],
   "source": [
    "def generate_fibonacci(n):\n",
    "    fibonacci = [0, 1]  # Initialize the first two Fibonacci numbers\n",
    "    while len(fibonacci) < n:\n",
    "        next_fib = fibonacci[-1] + fibonacci[-2]\n",
    "        fibonacci.append(next_fib)\n",
    "    return tuple(fibonacci)\n",
    "\n",
    "# Generate a tuple of the first 5 Fibonacci numbers\n",
    "fibonacci_tuple = generate_fibonacci(5)\n",
    "\n",
    "print(fibonacci_tuple)\n"
   ]
  },
  {
   "cell_type": "markdown",
   "id": "b422e1a4-5c32-4205-999e-029ca6fad533",
   "metadata": {},
   "source": [
    "42. Create a tuple from user input:"
   ]
  },
  {
   "cell_type": "code",
   "execution_count": 12,
   "id": "13602cfb-a9f2-4877-8d62-e6668d3a96f7",
   "metadata": {},
   "outputs": [
    {
     "name": "stdin",
     "output_type": "stream",
     "text": [
      "Enter elements separated by spaces:  4 5 8 7 \n"
     ]
    },
    {
     "name": "stdout",
     "output_type": "stream",
     "text": [
      "('4', '5', '8', '7')\n"
     ]
    }
   ],
   "source": [
    "user_input = input(\"Enter elements separated by spaces: \")\n",
    "user_tuple = tuple(user_input.split())\n",
    "print(user_tuple)\n"
   ]
  },
  {
   "cell_type": "markdown",
   "id": "0bb3d259-f486-4fce-87ff-69f0e833e039",
   "metadata": {},
   "source": [
    "43. Swap two elements in a tuple:"
   ]
  },
  {
   "cell_type": "code",
   "execution_count": 13,
   "id": "9821855c-3005-422a-9ef1-0e7eb40b5404",
   "metadata": {},
   "outputs": [
    {
     "name": "stdout",
     "output_type": "stream",
     "text": [
      "(1, 4, 3, 2, 5)\n"
     ]
    }
   ],
   "source": [
    "my_tuple = (1, 2, 3, 4, 5)\n",
    "list_form = list(my_tuple)\n",
    "list_form[1], list_form[3] = list_form[3], list_form[1]\n",
    "swapped_tuple = tuple(list_form)\n",
    "print(swapped_tuple)\n"
   ]
  },
  {
   "cell_type": "markdown",
   "id": "87b95b08-ee3c-4a03-b30d-f441ae130a79",
   "metadata": {},
   "source": [
    "44. Reverse the elements of a tuple:"
   ]
  },
  {
   "cell_type": "code",
   "execution_count": 14,
   "id": "6f65b3db-fde7-45ec-9761-eb9017cbe5ab",
   "metadata": {},
   "outputs": [
    {
     "name": "stdout",
     "output_type": "stream",
     "text": [
      "(5, 4, 3, 2, 1)\n"
     ]
    }
   ],
   "source": [
    "original_tuple = (1, 2, 3, 4, 5)\n",
    "reversed_tuple = original_tuple[::-1]\n",
    "print(reversed_tuple)\n"
   ]
  },
  {
   "cell_type": "markdown",
   "id": "c1089430-fda2-487e-969a-73f8b8d57108",
   "metadata": {},
   "source": [
    "45. Create a tuple of the first n powers of 2:\n",
    "\n"
   ]
  },
  {
   "cell_type": "code",
   "execution_count": 15,
   "id": "0cef84c8-802d-4c5c-8e1d-0611f3172ab6",
   "metadata": {},
   "outputs": [
    {
     "name": "stdout",
     "output_type": "stream",
     "text": [
      "(1, 2, 4, 8, 16)\n"
     ]
    }
   ],
   "source": [
    "n = 5\n",
    "powers_of_2 = tuple(2**i for i in range(n))\n",
    "print(powers_of_2)\n"
   ]
  },
  {
   "cell_type": "markdown",
   "id": "1247c53f-d3c1-40f4-b645-b8d9e7e46609",
   "metadata": {},
   "source": [
    "46. Find the longest string in a tuple of strings:"
   ]
  },
  {
   "cell_type": "code",
   "execution_count": 17,
   "id": "1a494a16-c184-4e2d-9f55-ea1b2464ae71",
   "metadata": {},
   "outputs": [
    {
     "name": "stdout",
     "output_type": "stream",
     "text": [
      "banana\n"
     ]
    }
   ],
   "source": [
    "strings_tuple = (\"apple\", \"banana\", \"cherry\", \"date\")\n",
    "longest_string = max(strings_tuple, key=len)\n",
    "print(longest_string)\n"
   ]
  },
  {
   "cell_type": "markdown",
   "id": "7d997f5c-a0ea-4711-8906-7eb05b30812f",
   "metadata": {},
   "source": [
    "47. Find the shortest string in a tuple of strings:"
   ]
  },
  {
   "cell_type": "code",
   "execution_count": 18,
   "id": "f92b1e93-6ae0-4973-867d-203a735e6ebd",
   "metadata": {},
   "outputs": [
    {
     "name": "stdout",
     "output_type": "stream",
     "text": [
      "date\n"
     ]
    }
   ],
   "source": [
    "strings_tuple = (\"apple\", \"banana\", \"cherry\", \"date\")\n",
    "shortest_string = min(strings_tuple, key=len)\n",
    "print(shortest_string)\n"
   ]
  },
  {
   "cell_type": "markdown",
   "id": "3b466196-92e8-433a-9596-cbe71d69eb17",
   "metadata": {},
   "source": [
    "48. Create a tuple of the first n triangular numbers:"
   ]
  },
  {
   "cell_type": "code",
   "execution_count": 19,
   "id": "d1164963-f50e-4802-8c77-bb31fdf53fc0",
   "metadata": {},
   "outputs": [
    {
     "name": "stdout",
     "output_type": "stream",
     "text": [
      "(1, 3, 6, 10, 15)\n"
     ]
    }
   ],
   "source": [
    "n = 5\n",
    "triangular_numbers = tuple((i * (i + 1)) // 2 for i in range(1, n + 1))\n",
    "print(triangular_numbers)\n"
   ]
  },
  {
   "cell_type": "markdown",
   "id": "2736938c-213f-4ced-b91c-6980e5b8de57",
   "metadata": {},
   "source": [
    "49. Check if a tuple contains another tuple as a subsequence:\n"
   ]
  },
  {
   "cell_type": "code",
   "execution_count": 20,
   "id": "ce959979-ffe6-4639-8af8-9c790dbd5901",
   "metadata": {},
   "outputs": [
    {
     "name": "stdout",
     "output_type": "stream",
     "text": [
      "The subsequence is not present in the main tuple.\n"
     ]
    }
   ],
   "source": [
    "main_tuple = (1, 2, (3, 4), 5, 6)\n",
    "subsequence = (3, 4)\n",
    "if all(item in main_tuple for item in subsequence):\n",
    "    print(\"The subsequence is present in the main tuple.\")\n",
    "else:\n",
    "    print(\"The subsequence is not present in the main tuple.\")\n"
   ]
  },
  {
   "cell_type": "markdown",
   "id": "6552b710-7894-4a72-a83e-01b394a744f5",
   "metadata": {},
   "source": [
    "50. Create a tuple of alternating 1s and 0s of length n:"
   ]
  },
  {
   "cell_type": "code",
   "execution_count": 21,
   "id": "ae5f63cf-5c28-4712-9b22-aff46aea88ae",
   "metadata": {},
   "outputs": [
    {
     "name": "stdout",
     "output_type": "stream",
     "text": [
      "(1, 0, 1, 0, 1, 0, 1)\n"
     ]
    }
   ],
   "source": [
    "n = 7\n",
    "alternating_tuple = tuple(i % 2 for i in range(1, n + 1))\n",
    "print(alternating_tuple)\n"
   ]
  },
  {
   "cell_type": "markdown",
   "id": "64c2456b-155f-48d3-82aa-8edd2e504878",
   "metadata": {},
   "source": [
    "Set Based Practice Problem :"
   ]
  },
  {
   "cell_type": "markdown",
   "id": "d9b4c70f-0011-46af-bed5-51c63604ef9e",
   "metadata": {},
   "source": [
    "1. Create a set with integers from 1 to 5"
   ]
  },
  {
   "cell_type": "code",
   "execution_count": 23,
   "id": "a74aa748-8300-4968-8212-f5f1cf882a83",
   "metadata": {},
   "outputs": [
    {
     "data": {
      "text/plain": [
       "{1, 2, 3, 4, 5}"
      ]
     },
     "execution_count": 23,
     "metadata": {},
     "output_type": "execute_result"
    }
   ],
   "source": [
    "my_set = {1, 2, 3, 4, 5}\n",
    "my_set"
   ]
  },
  {
   "cell_type": "markdown",
   "id": "adb26587-9ed8-4b8b-a999-8df77307402a",
   "metadata": {},
   "source": [
    "2. Add an element to a set:\n",
    "\n"
   ]
  },
  {
   "cell_type": "code",
   "execution_count": 24,
   "id": "acce54e5-5a27-40ca-9559-700c4cd97714",
   "metadata": {},
   "outputs": [
    {
     "data": {
      "text/plain": [
       "{1, 2, 3, 4, 5, 6}"
      ]
     },
     "execution_count": 24,
     "metadata": {},
     "output_type": "execute_result"
    }
   ],
   "source": [
    "my_set = {1, 2, 3, 4, 5}\n",
    "my_set.add(6)\n",
    "my_set"
   ]
  },
  {
   "cell_type": "markdown",
   "id": "d025d529-d77c-4e5f-a9b9-08c2eefc9672",
   "metadata": {},
   "source": [
    "3. Remove an element from a set:"
   ]
  },
  {
   "cell_type": "code",
   "execution_count": 1,
   "id": "f623db3b-d374-45d5-9362-9996720308ac",
   "metadata": {},
   "outputs": [
    {
     "data": {
      "text/plain": [
       "{1, 2, 4, 5}"
      ]
     },
     "execution_count": 1,
     "metadata": {},
     "output_type": "execute_result"
    }
   ],
   "source": [
    "my_set = {1, 2, 3, 4, 5}\n",
    "my_set.remove(3)\n",
    "my_set"
   ]
  },
  {
   "cell_type": "markdown",
   "id": "92021973-0887-4cbe-83b0-398abb12516f",
   "metadata": {},
   "source": [
    "4. Check if an element exists in a set:"
   ]
  },
  {
   "cell_type": "code",
   "execution_count": 2,
   "id": "7793a8e9-902f-42ba-81c0-0ebfa34e110e",
   "metadata": {},
   "outputs": [
    {
     "name": "stdout",
     "output_type": "stream",
     "text": [
      "4 exists in the set.\n"
     ]
    }
   ],
   "source": [
    "my_set = {1, 2, 3, 4, 5}\n",
    "element = 4\n",
    "if element in my_set:\n",
    "    print(f\"{element} exists in the set.\")\n"
   ]
  },
  {
   "cell_type": "markdown",
   "id": "a80c7f33-d6da-4644-9df5-130ceeee213f",
   "metadata": {},
   "source": [
    "5. Find the length of a set without using the len() function:"
   ]
  },
  {
   "cell_type": "code",
   "execution_count": 5,
   "id": "251aa246-1fb8-4f5e-9241-f8635765a761",
   "metadata": {},
   "outputs": [
    {
     "name": "stdout",
     "output_type": "stream",
     "text": [
      "5\n"
     ]
    }
   ],
   "source": [
    "my_set = {1,2,3,4,5}\n",
    "count=0\n",
    "for _ in my_set:\n",
    "    count +=1\n",
    "print(count)\n"
   ]
  },
  {
   "cell_type": "markdown",
   "id": "89f51e27-26af-46b0-8cc1-1d58dd1579b1",
   "metadata": {},
   "source": [
    "6. Clear all elements from a set:"
   ]
  },
  {
   "cell_type": "code",
   "execution_count": 6,
   "id": "d226400f-5513-4b28-8341-e5de5bfa1473",
   "metadata": {},
   "outputs": [
    {
     "data": {
      "text/plain": [
       "set()"
      ]
     },
     "execution_count": 6,
     "metadata": {},
     "output_type": "execute_result"
    }
   ],
   "source": [
    "my_set = {1,2,3,4,5}\n",
    "my_set.clear()\n",
    "my_set"
   ]
  },
  {
   "cell_type": "markdown",
   "id": "d6c6e9f6-a6a5-4a0b-a5c2-298a814e1fec",
   "metadata": {},
   "source": [
    "7. Create a set of even numbers from 1 to 10:"
   ]
  },
  {
   "cell_type": "code",
   "execution_count": 7,
   "id": "ac0f7cf6-1a9d-405c-8a07-3c821c045a9a",
   "metadata": {},
   "outputs": [
    {
     "data": {
      "text/plain": [
       "{2, 4, 6, 8, 10}"
      ]
     },
     "execution_count": 7,
     "metadata": {},
     "output_type": "execute_result"
    }
   ],
   "source": [
    "even_set = set(range(2, 11, 2))\n",
    "even_set"
   ]
  },
  {
   "cell_type": "markdown",
   "id": "7a8980ce-e9a5-4161-ab49-644172682c74",
   "metadata": {},
   "source": [
    "8. Create a set of odd numbers from 1 to 10:"
   ]
  },
  {
   "cell_type": "code",
   "execution_count": 8,
   "id": "5e066e16-cbf5-47c6-adf4-b61a56b7a2e6",
   "metadata": {},
   "outputs": [
    {
     "data": {
      "text/plain": [
       "{1, 3, 5, 7, 9}"
      ]
     },
     "execution_count": 8,
     "metadata": {},
     "output_type": "execute_result"
    }
   ],
   "source": [
    "odd_set = set(range(1, 11, 2))\n",
    "odd_set"
   ]
  },
  {
   "cell_type": "markdown",
   "id": "bdeee25e-8d54-4f34-a4ba-40cd71d44c40",
   "metadata": {},
   "source": [
    "9. Find the union of two sets:"
   ]
  },
  {
   "cell_type": "code",
   "execution_count": 9,
   "id": "a5bf814a-6e90-4809-b3ff-23fc6fef5f9f",
   "metadata": {},
   "outputs": [
    {
     "data": {
      "text/plain": [
       "{1, 2, 3, 4, 5}"
      ]
     },
     "execution_count": 9,
     "metadata": {},
     "output_type": "execute_result"
    }
   ],
   "source": [
    "set1 = {1, 2, 3}\n",
    "set2 = {3, 4, 5}\n",
    "union_set = set1.union(set2)\n",
    "union_set"
   ]
  },
  {
   "cell_type": "markdown",
   "id": "0c77bf5f-0376-4fc4-849d-a16c0d2da2c3",
   "metadata": {},
   "source": [
    "10. Find the intersection of two sets:"
   ]
  },
  {
   "cell_type": "code",
   "execution_count": 10,
   "id": "1b8c3c41-8dbf-452b-bea4-fe65e2e43f5a",
   "metadata": {},
   "outputs": [
    {
     "data": {
      "text/plain": [
       "{3}"
      ]
     },
     "execution_count": 10,
     "metadata": {},
     "output_type": "execute_result"
    }
   ],
   "source": [
    "set1 = {1, 2, 3}\n",
    "set2 = {3, 4, 5}\n",
    "intersection_set = set1.intersection(set2)\n",
    "intersection_set"
   ]
  },
  {
   "cell_type": "markdown",
   "id": "0e8279c0-416a-4cc9-b3bb-e3eab9a1ff66",
   "metadata": {},
   "source": [
    "11. Find the difference between two sets:"
   ]
  },
  {
   "cell_type": "code",
   "execution_count": 11,
   "id": "f34e3ca3-1588-4afe-990f-aaee354e3f1e",
   "metadata": {},
   "outputs": [
    {
     "data": {
      "text/plain": [
       "{1, 2}"
      ]
     },
     "execution_count": 11,
     "metadata": {},
     "output_type": "execute_result"
    }
   ],
   "source": [
    "set1 = {1, 2, 3}\n",
    "set2 = {3, 4, 5}\n",
    "difference_set = set1.difference(set2)\n",
    "difference_set"
   ]
  },
  {
   "cell_type": "markdown",
   "id": "f8f3d4d7-de19-45ca-9383-b9b3a3ce235e",
   "metadata": {},
   "source": [
    "12. Check if a set is a subset of another set:"
   ]
  },
  {
   "cell_type": "code",
   "execution_count": 16,
   "id": "44d4804e-9f6a-47c1-a0ce-714ff3aad997",
   "metadata": {},
   "outputs": [],
   "source": [
    "set1 = {1, 2, 3}\n",
    "set2 = {3, 4, 5}\n",
    "if set1.issubset(set2):\n",
    "    print(\"set1 is a subset of set2.\")\n"
   ]
  },
  {
   "cell_type": "markdown",
   "id": "4edc5608-91c6-46e6-ab07-43ef34b55028",
   "metadata": {},
   "source": [
    "13. Check if a set is a superset of another set:"
   ]
  },
  {
   "cell_type": "code",
   "execution_count": 18,
   "id": "c8d1d5a4-a5ef-4834-90f7-6a05f0310b43",
   "metadata": {},
   "outputs": [
    {
     "name": "stdout",
     "output_type": "stream",
     "text": [
      "set1 is a superset of set2.\n"
     ]
    }
   ],
   "source": [
    "set1 = {1, 2, 3}\n",
    "set2 = {3, 2, 1}\n",
    "if set1.issuperset(set2):\n",
    "    print(\"set1 is a superset of set2.\")\n"
   ]
  },
  {
   "cell_type": "markdown",
   "id": "8389e4ae-775d-42ad-a524-276e3924fc5d",
   "metadata": {},
   "source": [
    "14. Create a set from a list:"
   ]
  },
  {
   "cell_type": "code",
   "execution_count": 20,
   "id": "19cf365e-7035-4a96-930b-5996bfda2f1c",
   "metadata": {},
   "outputs": [
    {
     "data": {
      "text/plain": [
       "{1, 2, 3, 4, 5}"
      ]
     },
     "execution_count": 20,
     "metadata": {},
     "output_type": "execute_result"
    }
   ],
   "source": [
    "my_list = [1, 2, 3, 4, 5]\n",
    "set_from_list = set(my_list)\n",
    "set_from_list"
   ]
  },
  {
   "cell_type": "markdown",
   "id": "ac1be214-acd0-4e66-a2a2-5836aa908373",
   "metadata": {},
   "source": [
    "15. Convert a set to a list:"
   ]
  },
  {
   "cell_type": "code",
   "execution_count": 22,
   "id": "4641c6c1-e079-41e5-ac05-fc2fd567458e",
   "metadata": {},
   "outputs": [
    {
     "data": {
      "text/plain": [
       "[1, 2, 3, 4, 5]"
      ]
     },
     "execution_count": 22,
     "metadata": {},
     "output_type": "execute_result"
    }
   ],
   "source": [
    "my_set={1,2,3,4,5}\n",
    "list_from_set = list(my_set)\n",
    "list_from_set"
   ]
  },
  {
   "cell_type": "markdown",
   "id": "a361796c-2442-4544-a95e-5719582be93c",
   "metadata": {},
   "source": [
    "16. Remove a random element from a set:"
   ]
  },
  {
   "cell_type": "code",
   "execution_count": 24,
   "id": "558cfdbb-71bb-49e6-ba8f-5c735a7c9cc2",
   "metadata": {},
   "outputs": [
    {
     "data": {
      "text/plain": [
       "{1, 2, 4, 5}"
      ]
     },
     "execution_count": 24,
     "metadata": {},
     "output_type": "execute_result"
    }
   ],
   "source": [
    "import random\n",
    "\n",
    "my_set = {1, 2, 3, 4, 5}\n",
    "element = random.choice(tuple(my_set))\n",
    "my_set.remove(element)\n",
    "my_set"
   ]
  },
  {
   "cell_type": "markdown",
   "id": "4c8f5b4b-50d4-4834-9c6d-c862205288c2",
   "metadata": {},
   "source": [
    "17. Pop an element from a set:"
   ]
  },
  {
   "cell_type": "code",
   "execution_count": 27,
   "id": "521b75b6-c67b-48b0-a23b-87046d854097",
   "metadata": {},
   "outputs": [
    {
     "data": {
      "text/plain": [
       "1"
      ]
     },
     "execution_count": 27,
     "metadata": {},
     "output_type": "execute_result"
    }
   ],
   "source": [
    "my_set={1,2,3,4,5}\n",
    "pop_element=my_set.pop()\n",
    "pop_element"
   ]
  },
  {
   "cell_type": "markdown",
   "id": "ee1df0ad-879e-4051-9771-cd1ec426a4fb",
   "metadata": {},
   "source": [
    "18. Check if two sets have no elements in common:"
   ]
  },
  {
   "cell_type": "code",
   "execution_count": 29,
   "id": "b52ff41b-2efe-448b-abe8-3551d8f31638",
   "metadata": {},
   "outputs": [
    {
     "name": "stdout",
     "output_type": "stream",
     "text": [
      "the sets have diffenrent element\n"
     ]
    }
   ],
   "source": [
    "set1 = {1, 2, 3}\n",
    "set2 = {4, 5, 6}\n",
    "if not set1.isdisjoint(set2):\n",
    "    print(\"The sets have elements in common.\")\n",
    "else:\n",
    "    print(\"the sets have diffenrent element\")"
   ]
  },
  {
   "cell_type": "markdown",
   "id": "9f984e0d-f30e-4d8b-a56e-7e90652f640d",
   "metadata": {},
   "source": [
    "19. Find the symmetric difference between two sets:"
   ]
  },
  {
   "cell_type": "code",
   "execution_count": 32,
   "id": "15172da0-44c2-4b36-9912-64030aa58ccd",
   "metadata": {},
   "outputs": [
    {
     "data": {
      "text/plain": [
       "{1, 2, 4, 5, 6}"
      ]
     },
     "execution_count": 32,
     "metadata": {},
     "output_type": "execute_result"
    }
   ],
   "source": [
    "set1 = {1, 2, 3}\n",
    "set2 = {4, 5, 6,3}\n",
    "symmetric_difference_set = set1.symmetric_difference(set2)\n",
    "symmetric_difference_set"
   ]
  },
  {
   "cell_type": "markdown",
   "id": "d08727ea-bdf0-40ca-9783-e24e6d87a21f",
   "metadata": {},
   "source": [
    "20. Update a set with elements from another set:"
   ]
  },
  {
   "cell_type": "code",
   "execution_count": 33,
   "id": "c125774c-80e4-4235-8f23-1389d78ed5a4",
   "metadata": {},
   "outputs": [
    {
     "data": {
      "text/plain": [
       "{1, 2, 3, 4, 5, 6}"
      ]
     },
     "execution_count": 33,
     "metadata": {},
     "output_type": "execute_result"
    }
   ],
   "source": [
    "set1.update(set2)\n",
    "set1"
   ]
  },
  {
   "cell_type": "markdown",
   "id": "23af2e0c-a324-4e92-ac24-c06f23b2512c",
   "metadata": {},
   "source": [
    "21. Create a set of the first 5 prime numbers:"
   ]
  },
  {
   "cell_type": "code",
   "execution_count": 34,
   "id": "d8d8628e-911e-4c9c-9ba5-a1baca2bfe54",
   "metadata": {},
   "outputs": [
    {
     "data": {
      "text/plain": [
       "{2, 3, 5, 7, 11}"
      ]
     },
     "execution_count": 34,
     "metadata": {},
     "output_type": "execute_result"
    }
   ],
   "source": [
    "prime_set = {2, 3, 5, 7, 11}\n",
    "prime_set"
   ]
  },
  {
   "cell_type": "markdown",
   "id": "ce69b638-6c28-468f-aebc-6da8e6f79fcb",
   "metadata": {},
   "source": [
    "22. Check if two sets are identical:"
   ]
  },
  {
   "cell_type": "code",
   "execution_count": 35,
   "id": "6dff3cec-8fb5-4716-88e8-c04e2c37462e",
   "metadata": {},
   "outputs": [
    {
     "name": "stdout",
     "output_type": "stream",
     "text": [
      "The sets are not identical\n"
     ]
    }
   ],
   "source": [
    "set1 = {1, 2, 3}\n",
    "set2 = {4, 5, 6}\n",
    "if set1 == set2:\n",
    "    print(\"The sets are identical.\")\n",
    "else:\n",
    "    print(\"The sets are not identical\")"
   ]
  },
  {
   "cell_type": "markdown",
   "id": "309b541f-1d95-4c4e-963d-f9eaf6e3b3c0",
   "metadata": {},
   "source": [
    "23. Create a frozen set:"
   ]
  },
  {
   "cell_type": "code",
   "execution_count": 36,
   "id": "3c85a8d5-bb42-47e7-9d0e-c4016b5c88dd",
   "metadata": {},
   "outputs": [
    {
     "data": {
      "text/plain": [
       "frozenset({1, 2, 3, 4, 5})"
      ]
     },
     "execution_count": 36,
     "metadata": {},
     "output_type": "execute_result"
    }
   ],
   "source": [
    "my_set={1,2,3,4,5}\n",
    "my_frozen_set = frozenset(my_set)\n",
    "my_frozen_set    "
   ]
  },
  {
   "cell_type": "markdown",
   "id": "cb4a35fe-3ad1-4259-b78d-97d4a5926b2c",
   "metadata": {},
   "source": [
    "24. Check if a set is disjoint with another set:"
   ]
  },
  {
   "cell_type": "code",
   "execution_count": 38,
   "id": "6301359c-c6bd-4790-b7b4-375865ff393b",
   "metadata": {},
   "outputs": [
    {
     "name": "stdout",
     "output_type": "stream",
     "text": [
      "The sets have no elements in common.\n"
     ]
    }
   ],
   "source": [
    "if set1.isdisjoint(set2):\n",
    "    print(\"The sets have no elements in common.\")\n",
    "else:\n",
    "    print(\"the sets have common element\")"
   ]
  },
  {
   "cell_type": "markdown",
   "id": "0bead4d5-141f-494e-baf4-806f30222d06",
   "metadata": {},
   "source": [
    "25. Create a set of squares of numbers from 1 to 5:"
   ]
  },
  {
   "cell_type": "code",
   "execution_count": 39,
   "id": "6cc154d7-c1c5-4543-924c-b00796a4d256",
   "metadata": {},
   "outputs": [
    {
     "data": {
      "text/plain": [
       "{1, 4, 9, 16, 25}"
      ]
     },
     "execution_count": 39,
     "metadata": {},
     "output_type": "execute_result"
    }
   ],
   "source": [
    "squares_set = {x**2 for x in range(1, 6)}\n",
    "squares_set"
   ]
  },
  {
   "cell_type": "markdown",
   "id": "ca76a7bf-d9a4-4e29-853a-39ac51208023",
   "metadata": {},
   "source": [
    "26. Filter out all even numbers from a set:"
   ]
  },
  {
   "cell_type": "code",
   "execution_count": 40,
   "id": "a55f86f6-7d18-4a7a-ab7f-da93d1ab8063",
   "metadata": {},
   "outputs": [
    {
     "data": {
      "text/plain": [
       "{1, 3, 5}"
      ]
     },
     "execution_count": 40,
     "metadata": {},
     "output_type": "execute_result"
    }
   ],
   "source": [
    "my_set = {1, 2, 3, 4, 5}\n",
    "my_set = {x for x in my_set if x % 2 != 0}\n",
    "my_set"
   ]
  },
  {
   "cell_type": "markdown",
   "id": "442bc654-a711-4403-a199-acd406038775",
   "metadata": {},
   "source": [
    "27. Multiply all elements in a set by 2:"
   ]
  },
  {
   "cell_type": "code",
   "execution_count": 43,
   "id": "23f8ccb0-14e9-4f3a-8c68-8cbb52e707ff",
   "metadata": {},
   "outputs": [
    {
     "data": {
      "text/plain": [
       "{2, 4, 6, 8, 10}"
      ]
     },
     "execution_count": 43,
     "metadata": {},
     "output_type": "execute_result"
    }
   ],
   "source": [
    "my_set = {1, 2, 3, 4, 5}\n",
    "my_set = {x * 2 for x in my_set}\n",
    "my_set"
   ]
  },
  {
   "cell_type": "markdown",
   "id": "e64739e2-ae17-4ecf-8e44-5d3153715e0e",
   "metadata": {},
   "source": [
    "28. Create a set of random numbers:"
   ]
  },
  {
   "cell_type": "code",
   "execution_count": 45,
   "id": "a523781b-70a8-4806-ae3a-9421c8996120",
   "metadata": {},
   "outputs": [
    {
     "data": {
      "text/plain": [
       "{23, 36, 60, 61, 96}"
      ]
     },
     "execution_count": 45,
     "metadata": {},
     "output_type": "execute_result"
    }
   ],
   "source": [
    "import random\n",
    "\n",
    "random_set = set(random.randint(1, 100) for _ in range(5))\n",
    "random_set"
   ]
  },
  {
   "cell_type": "markdown",
   "id": "aa5023e2-6d89-4c99-bdc5-74924b10cf5c",
   "metadata": {},
   "source": [
    "29. Check if a set is empty:"
   ]
  },
  {
   "cell_type": "code",
   "execution_count": 46,
   "id": "7ed9b4a6-4767-403a-bcc2-d429177c01e9",
   "metadata": {},
   "outputs": [
    {
     "name": "stdout",
     "output_type": "stream",
     "text": [
      "The set is  not empty.\n"
     ]
    }
   ],
   "source": [
    "my_set = {1, 2, 3, 4, 5}\n",
    "if not my_set:\n",
    "    print(\"The set is empty.\")\n",
    "else:\n",
    "    print(\"The set is  not empty.\")"
   ]
  },
  {
   "cell_type": "markdown",
   "id": "e7855668-793d-493a-ba2a-7e704fbd8ba3",
   "metadata": {},
   "source": [
    "30. Create a nested set (hint: use frozenset):"
   ]
  },
  {
   "cell_type": "code",
   "execution_count": 47,
   "id": "b6d89769-8851-4a3a-a5df-b3f00aa67eb0",
   "metadata": {},
   "outputs": [
    {
     "data": {
      "text/plain": [
       "{frozenset({3, 4}), frozenset({1, 2})}"
      ]
     },
     "execution_count": 47,
     "metadata": {},
     "output_type": "execute_result"
    }
   ],
   "source": [
    "nested_set = {frozenset({1, 2}), frozenset({3, 4})}\n",
    "nested_set"
   ]
  },
  {
   "cell_type": "markdown",
   "id": "7099809e-3876-41a1-b5a9-16d9c527ec7c",
   "metadata": {},
   "source": [
    "31. Remove an element from a set using the discard method."
   ]
  },
  {
   "cell_type": "code",
   "execution_count": 48,
   "id": "ce5bc31e-4ea5-4a8c-9a9d-a9d2b86d397d",
   "metadata": {},
   "outputs": [
    {
     "name": "stdout",
     "output_type": "stream",
     "text": [
      "{1, 2, 4, 5}\n"
     ]
    }
   ],
   "source": [
    "my_set = {1, 2, 3, 4, 5}\n",
    "element_to_remove = 3\n",
    "\n",
    "my_set.discard(element_to_remove)\n",
    "\n",
    "print(my_set)\n"
   ]
  },
  {
   "cell_type": "markdown",
   "id": "1dfeaa05-7c5f-4e2a-8202-542fcfecdeb3",
   "metadata": {},
   "source": [
    "32. Compare two sets:"
   ]
  },
  {
   "cell_type": "code",
   "execution_count": 49,
   "id": "ccc20853-1589-4abe-955b-7cee3802ab8e",
   "metadata": {},
   "outputs": [
    {
     "name": "stdout",
     "output_type": "stream",
     "text": [
      "The sets are equal.\n"
     ]
    }
   ],
   "source": [
    "set1 = {1, 2, 3}\n",
    "set2 = {3, 2, 1}\n",
    "if set1 == set2:\n",
    "    print(\"The sets are equal.\")\n",
    "else:\n",
    "    print:(\"sets are not equal\")"
   ]
  },
  {
   "cell_type": "markdown",
   "id": "1acc2f93-dd0b-491f-b553-14413ee24527",
   "metadata": {},
   "source": [
    "33. Create a set from a string:"
   ]
  },
  {
   "cell_type": "code",
   "execution_count": 50,
   "id": "834a2ec9-edd4-4080-b41d-88617c1047c6",
   "metadata": {},
   "outputs": [
    {
     "data": {
      "text/plain": [
       "{'e', 'h', 'l', 'o'}"
      ]
     },
     "execution_count": 50,
     "metadata": {},
     "output_type": "execute_result"
    }
   ],
   "source": [
    "my_string = \"hello\"\n",
    "string_set = set(my_string)\n",
    "string_set"
   ]
  },
  {
   "cell_type": "markdown",
   "id": "32b567f2-94dd-40bf-849d-afa470219111",
   "metadata": {},
   "source": [
    "34. Convert a set of strings to a set of integers:"
   ]
  },
  {
   "cell_type": "code",
   "execution_count": 51,
   "id": "093a9535-b036-46a2-bee0-299d522fa744",
   "metadata": {},
   "outputs": [
    {
     "data": {
      "text/plain": [
       "{1, 2, 3}"
      ]
     },
     "execution_count": 51,
     "metadata": {},
     "output_type": "execute_result"
    }
   ],
   "source": [
    "string_set = {\"1\", \"2\", \"3\"}\n",
    "int_set = {int(x) for x in string_set}\n",
    "int_set"
   ]
  },
  {
   "cell_type": "markdown",
   "id": "17423953-432e-47c6-be56-c88a6477f9f5",
   "metadata": {},
   "source": [
    "35. Convert a set of integers to a set of strings:"
   ]
  },
  {
   "cell_type": "code",
   "execution_count": 52,
   "id": "147af59c-9330-4ed7-a2b6-66bd92273607",
   "metadata": {},
   "outputs": [
    {
     "data": {
      "text/plain": [
       "{'1', '2', '3'}"
      ]
     },
     "execution_count": 52,
     "metadata": {},
     "output_type": "execute_result"
    }
   ],
   "source": [
    "int_set = {1, 2, 3}\n",
    "string_set = {str(x) for x in int_set}\n",
    "string_set"
   ]
  },
  {
   "cell_type": "markdown",
   "id": "301ee2e6-ec75-4e4b-8ebe-3163882b8814",
   "metadata": {},
   "source": [
    "36. Create a set from a tuple:"
   ]
  },
  {
   "cell_type": "code",
   "execution_count": 53,
   "id": "f85d1683-e58e-48b4-9acc-75745773f605",
   "metadata": {},
   "outputs": [
    {
     "data": {
      "text/plain": [
       "{1, 2, 3, 4, 5}"
      ]
     },
     "execution_count": 53,
     "metadata": {},
     "output_type": "execute_result"
    }
   ],
   "source": [
    "my_tuple = (1, 2, 3, 4, 5)\n",
    "tuple_set = set(my_tuple)\n",
    "tuple_set"
   ]
  },
  {
   "cell_type": "markdown",
   "id": "8c87e8f2-d4a4-45b7-ab41-3401ae128752",
   "metadata": {},
   "source": [
    "37. Convert a set to a tuple:"
   ]
  },
  {
   "cell_type": "code",
   "execution_count": 54,
   "id": "91ef1a50-295b-46c3-93af-4896234608b9",
   "metadata": {},
   "outputs": [
    {
     "data": {
      "text/plain": [
       "(1, 2, 3)"
      ]
     },
     "execution_count": 54,
     "metadata": {},
     "output_type": "execute_result"
    }
   ],
   "source": [
    "set1 = {1, 2, 3}\n",
    "tuple1 = tuple(set1)\n",
    "tuple1"
   ]
  },
  {
   "cell_type": "markdown",
   "id": "6feb2a5c-a988-49a8-9dc9-5b31d56f1701",
   "metadata": {},
   "source": [
    "38. Find the maximum value in a set:"
   ]
  },
  {
   "cell_type": "code",
   "execution_count": 55,
   "id": "0b646176-e5f0-49a6-92bb-4a456218e0e5",
   "metadata": {},
   "outputs": [
    {
     "data": {
      "text/plain": [
       "96"
      ]
     },
     "execution_count": 55,
     "metadata": {},
     "output_type": "execute_result"
    }
   ],
   "source": [
    "my_set={45,96,42,36,49,78}\n",
    "max_value = max(my_set)\n",
    "max_value"
   ]
  },
  {
   "cell_type": "markdown",
   "id": "034c227d-6492-433d-8b9f-d26d5708122a",
   "metadata": {},
   "source": [
    "39. Find the minimum value in a set:"
   ]
  },
  {
   "cell_type": "code",
   "execution_count": 56,
   "id": "9f18d2b7-a985-4db2-ba73-6e23202b1b57",
   "metadata": {},
   "outputs": [
    {
     "data": {
      "text/plain": [
       "36"
      ]
     },
     "execution_count": 56,
     "metadata": {},
     "output_type": "execute_result"
    }
   ],
   "source": [
    "my_set={45,96,42,36,49,78}\n",
    "min_value = min(my_set)\n",
    "min_value"
   ]
  },
  {
   "cell_type": "markdown",
   "id": "847f7016-4d7e-4da9-b21c-cccb4177eb6c",
   "metadata": {},
   "source": [
    "40. Create a set from user input:"
   ]
  },
  {
   "cell_type": "code",
   "execution_count": 58,
   "id": "a8eb3c49-8036-4b22-934f-6e12b84cb6c3",
   "metadata": {},
   "outputs": [
    {
     "name": "stdin",
     "output_type": "stream",
     "text": [
      "Enter elements separated by spaces:  4 5 1 2 4 5 6 4\n"
     ]
    },
    {
     "data": {
      "text/plain": [
       "{'1', '2', '4', '5', '6'}"
      ]
     },
     "execution_count": 58,
     "metadata": {},
     "output_type": "execute_result"
    }
   ],
   "source": [
    "user_input = input(\"Enter elements separated by spaces: \")\n",
    "user_set = set(user_input.split())\n",
    "user_set"
   ]
  },
  {
   "cell_type": "markdown",
   "id": "d8f8f947-fd05-4fac-9c0e-217f9d23a92e",
   "metadata": {},
   "source": [
    "41. Check if the intersection of two sets is empty:"
   ]
  },
  {
   "cell_type": "code",
   "execution_count": 60,
   "id": "1be54267-15a2-4861-92a7-9bd6245c13c9",
   "metadata": {},
   "outputs": [
    {
     "name": "stdout",
     "output_type": "stream",
     "text": [
      "The sets have elements in common.\n"
     ]
    }
   ],
   "source": [
    "set1 = {1, 2, 3}\n",
    "set2 = {3, 2, 1}\n",
    "if not set1.isdisjoint(set2):\n",
    "    print(\"The sets have elements in common.\")\n"
   ]
  },
  {
   "cell_type": "markdown",
   "id": "f06b1b1b-dc1d-4319-ad02-1fd13412af74",
   "metadata": {},
   "source": [
    "42. Create a set of the first 5 Fibonacci numbers:"
   ]
  },
  {
   "cell_type": "code",
   "execution_count": 61,
   "id": "5ad8048c-4f31-4259-9316-96df24ed4ba6",
   "metadata": {},
   "outputs": [
    {
     "data": {
      "text/plain": [
       "{0, 1, 2, 3}"
      ]
     },
     "execution_count": 61,
     "metadata": {},
     "output_type": "execute_result"
    }
   ],
   "source": [
    "fibonacci_set = {0, 1, 1, 2, 3}\n",
    "fibonacci_set"
   ]
  },
  {
   "cell_type": "markdown",
   "id": "5a199826-7a78-49d6-b592-47b10c39a3f6",
   "metadata": {},
   "source": [
    "43. Remove duplicates from a list using sets:"
   ]
  },
  {
   "cell_type": "code",
   "execution_count": 62,
   "id": "9be45670-12c6-4f6c-82bd-80b20770fb57",
   "metadata": {},
   "outputs": [
    {
     "data": {
      "text/plain": [
       "[1, 2, 3, 4, 5]"
      ]
     },
     "execution_count": 62,
     "metadata": {},
     "output_type": "execute_result"
    }
   ],
   "source": [
    "my_list = [1, 2, 2, 3, 4, 4, 5]\n",
    "unique_list = list(set(my_list))\n",
    "unique_list"
   ]
  },
  {
   "cell_type": "markdown",
   "id": "5fb42ff6-7b43-4033-856b-d718a6184d9d",
   "metadata": {},
   "source": [
    "44. Check if two sets have the same elements, regardless of their count:"
   ]
  },
  {
   "cell_type": "code",
   "execution_count": 63,
   "id": "6d2b314a-7378-4c15-a31c-94d716cc4203",
   "metadata": {},
   "outputs": [
    {
     "name": "stdout",
     "output_type": "stream",
     "text": [
      "The sets have the same elements.\n"
     ]
    }
   ],
   "source": [
    "if set1 == set2:\n",
    "    print(\"The sets have the same elements.\")\n"
   ]
  },
  {
   "cell_type": "markdown",
   "id": "19016fda-5750-4149-b86f-4cffc6470d4d",
   "metadata": {},
   "source": [
    "45. Create a set of the first n powers of 2:"
   ]
  },
  {
   "cell_type": "code",
   "execution_count": 64,
   "id": "dfa53bc7-4c5b-4f13-a60a-85221d304ddf",
   "metadata": {},
   "outputs": [
    {
     "data": {
      "text/plain": [
       "{1, 2, 4, 8, 16}"
      ]
     },
     "execution_count": 64,
     "metadata": {},
     "output_type": "execute_result"
    }
   ],
   "source": [
    "n = 5\n",
    "powers_of_2_set = {2**i for i in range(n)}\n",
    "powers_of_2_set"
   ]
  },
  {
   "cell_type": "markdown",
   "id": "f1e1c4d4-92eb-42ad-ade7-524d0c599b8e",
   "metadata": {},
   "source": [
    "46. Find the common elements between a set and a list:"
   ]
  },
  {
   "cell_type": "code",
   "execution_count": 65,
   "id": "6f96eb59-39ee-462f-a1d4-4b513bdfabb1",
   "metadata": {},
   "outputs": [
    {
     "data": {
      "text/plain": [
       "{1, 2, 3}"
      ]
     },
     "execution_count": 65,
     "metadata": {},
     "output_type": "execute_result"
    }
   ],
   "source": [
    "common_elements = set1.intersection(set(my_list))\n",
    "common_elements"
   ]
  },
  {
   "cell_type": "markdown",
   "id": "ab426eb5-19b0-43c4-95f0-d4f86b8d876f",
   "metadata": {},
   "source": [
    "47. Create a set of the first n triangular numbers:"
   ]
  },
  {
   "cell_type": "code",
   "execution_count": 67,
   "id": "50dc039e-7778-4251-a4de-1b980cd30cec",
   "metadata": {},
   "outputs": [
    {
     "data": {
      "text/plain": [
       "{1, 3, 6, 10, 15}"
      ]
     },
     "execution_count": 67,
     "metadata": {},
     "output_type": "execute_result"
    }
   ],
   "source": [
    "n = 5\n",
    "triangular_numbers_set = {i * (i + 1) // 2 for i in range(1, n + 1)}\n",
    "triangular_numbers_set"
   ]
  },
  {
   "cell_type": "markdown",
   "id": "cc31dc1a-3600-4b38-adb8-fc30c2ac36b3",
   "metadata": {},
   "source": [
    "48. Check if a set contains another set as a subset:"
   ]
  },
  {
   "cell_type": "code",
   "execution_count": 68,
   "id": "8d90e237-98b5-44d6-bc87-2d1052fcf59a",
   "metadata": {},
   "outputs": [
    {
     "name": "stdout",
     "output_type": "stream",
     "text": [
      "subset is contained in set1.\n"
     ]
    }
   ],
   "source": [
    "set1 = {1, 2, 3, 4, 5}\n",
    "subset = {3, 4}\n",
    "if subset.issubset(set1):\n",
    "    print(\"subset is contained in set1.\")\n"
   ]
  },
  {
   "cell_type": "markdown",
   "id": "3f44514d-72e6-43c9-b70b-7284bd9b9d82",
   "metadata": {},
   "source": [
    "49. Create a set of alternating 1s and 0s of length n:"
   ]
  },
  {
   "cell_type": "code",
   "execution_count": 77,
   "id": "da3eb3fd-3d0a-40f6-ab82-92ca39f63333",
   "metadata": {},
   "outputs": [
    {
     "data": {
      "text/plain": [
       "{0, 1}"
      ]
     },
     "execution_count": 77,
     "metadata": {},
     "output_type": "execute_result"
    }
   ],
   "source": [
    "n = 7\n",
    "alternating_set = {1 if i % 2 == 0 else 0 for i in range(n)}\n",
    "alternating_set"
   ]
  },
  {
   "cell_type": "markdown",
   "id": "64a8ddc6-a5fd-4f5c-970f-579b4122e61b",
   "metadata": {},
   "source": [
    "50. Merge multiple sets into one:"
   ]
  },
  {
   "cell_type": "code",
   "execution_count": 78,
   "id": "29c6446a-7037-4f1f-9804-00d863a9bd7c",
   "metadata": {},
   "outputs": [
    {
     "data": {
      "text/plain": [
       "{1, 2, 3, 4, 5, 6, 7}"
      ]
     },
     "execution_count": 78,
     "metadata": {},
     "output_type": "execute_result"
    }
   ],
   "source": [
    "set1 = {1, 2, 3}\n",
    "set2 = {3, 4, 5}\n",
    "set3 = {5, 6, 7}\n",
    "merged_set = set1.union(set2, set3)\n",
    "merged_set"
   ]
  },
  {
   "cell_type": "code",
   "execution_count": null,
   "id": "0c6cf828-b175-4099-9f1d-b39c33fa1b35",
   "metadata": {},
   "outputs": [],
   "source": []
  }
 ],
 "metadata": {
  "kernelspec": {
   "display_name": "Python 3 (ipykernel)",
   "language": "python",
   "name": "python3"
  },
  "language_info": {
   "codemirror_mode": {
    "name": "ipython",
    "version": 3
   },
   "file_extension": ".py",
   "mimetype": "text/x-python",
   "name": "python",
   "nbconvert_exporter": "python",
   "pygments_lexer": "ipython3",
   "version": "3.10.8"
  }
 },
 "nbformat": 4,
 "nbformat_minor": 5
}
